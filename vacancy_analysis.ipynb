{
 "cells": [
  {
   "cell_type": "markdown",
   "id": "0c33c2bc",
   "metadata": {
    "papermill": {
     "duration": 0.012208,
     "end_time": "2022-11-22T10:48:27.558185",
     "exception": false,
     "start_time": "2022-11-22T10:48:27.545977",
     "status": "completed"
    },
    "tags": []
   },
   "source": [
    "<a id=\"task\"></a>\n",
    "## Задачи\n",
    "Обработать данные о вакансиях. Проанализировать зарплаты и посмотреть на зависимости.\n",
    "\n",
    "Составить ТОПы ключевых навыков и самых часто повторяющихся слов в описаниях вакансий. Определить отличия навыков в зависимости от уровня профессионализма. \n",
    "\n",
    "Написать общий вывод."
   ]
  },
  {
   "cell_type": "code",
   "execution_count": 24,
   "id": "b10b1c2c",
   "metadata": {
    "execution": {
     "iopub.execute_input": "2022-11-22T10:48:27.583195Z",
     "iopub.status.busy": "2022-11-22T10:48:27.582464Z",
     "iopub.status.idle": "2022-11-22T10:48:28.776320Z",
     "shell.execute_reply": "2022-11-22T10:48:28.774650Z"
    },
    "papermill": {
     "duration": 1.209431,
     "end_time": "2022-11-22T10:48:28.778887",
     "exception": false,
     "start_time": "2022-11-22T10:48:27.569456",
     "status": "completed"
    },
    "tags": []
   },
   "outputs": [
    {
     "name": "stderr",
     "output_type": "stream",
     "text": [
      "C:\\Users\\Arkhipov\\AppData\\Local\\Temp\\ipykernel_49020\\525284759.py:7: DeprecationWarning: Importing display from IPython.core.display is deprecated since IPython 7.14, please import from IPython display\n",
      "  from IPython.core.display import display, HTML\n"
     ]
    }
   ],
   "source": [
    "import pandas as pd\n",
    "import re\n",
    "import matplotlib.pyplot as plt\n",
    "import seaborn as sns\n",
    "import numpy as np\n",
    "from tabulate import tabulate\n",
    "from IPython.core.display import display, HTML\n",
    "import warnings\n",
    "warnings.filterwarnings(\"ignore\", \"is_categorical_dtype\") \n",
    "warnings.filterwarnings(\"ignore\", \"use_inf_as_na\")\n",
    "warnings.filterwarnings(\"ignore\", \"DeprecationWarning\")\n",
    "\n",
    "\n",
    "pd.set_option('display.max_columns', None)"
   ]
  },
  {
   "cell_type": "markdown",
   "id": "fe844e77",
   "metadata": {
    "papermill": {
     "duration": 0.011119,
     "end_time": "2022-11-22T10:48:28.802166",
     "exception": false,
     "start_time": "2022-11-22T10:48:28.791047",
     "status": "completed"
    },
    "tags": []
   },
   "source": [
    "## Функции для работы с выводом\n",
    "Для удобного отображения данных"
   ]
  },
  {
   "cell_type": "markdown",
   "id": "ccc1967f",
   "metadata": {
    "papermill": {
     "duration": 0.011006,
     "end_time": "2022-11-22T10:48:28.824544",
     "exception": false,
     "start_time": "2022-11-22T10:48:28.813538",
     "status": "completed"
    },
    "tags": []
   },
   "source": [
    "### Функция для удобного вывода таблиц рядом с друг другом."
   ]
  },
  {
   "cell_type": "code",
   "execution_count": 89,
   "id": "c473d78e",
   "metadata": {
    "execution": {
     "iopub.execute_input": "2022-11-22T10:48:28.848764Z",
     "iopub.status.busy": "2022-11-22T10:48:28.848456Z",
     "iopub.status.idle": "2022-11-22T10:48:28.853987Z",
     "shell.execute_reply": "2022-11-22T10:48:28.853261Z"
    },
    "papermill": {
     "duration": 0.019713,
     "end_time": "2022-11-22T10:48:28.855588",
     "exception": false,
     "start_time": "2022-11-22T10:48:28.835875",
     "status": "completed"
    },
    "tags": []
   },
   "outputs": [],
   "source": [
    "\n",
    "def display_side_by_side(series_list: list, title: str):\n",
    "    tables = []\n",
    "\n",
    "    for series in series_list:\n",
    "        # Преобразование объектов Series во временные DataFrame\n",
    "        df = pd.DataFrame(series.describe())\n",
    "\n",
    "        # Форматирование чисел в таблицах\n",
    "        for column in df.columns:\n",
    "            df[column] = df[column].apply(lambda x: '{:,.0f}'.format(x))\n",
    "\n",
    "        # Конвертация таблиц в формат, подходящий для tabulate\n",
    "        table = tabulate(df, headers='keys', tablefmt='pipe')\n",
    "        tables.append(table.split('\\n'))\n",
    "\n",
    "    # Определение максимального числа строк в таблицах\n",
    "    max_rows = max(len(table) for table in tables)\n",
    "\n",
    "    # Заполнение таблиц строками до одинаковой длины\n",
    "    for table in tables:\n",
    "        table += [''] * (max_rows - len(table))\n",
    "\n",
    "    # Объединение строк таблиц в одну таблицу\n",
    "    combined_table = f\"| {title} |\\n\" + '\\n'.join('|'.join(row) for row in zip(*tables))\n",
    "    print(combined_table)"
   ]
  },
  {
   "cell_type": "markdown",
   "id": "95e606bc",
   "metadata": {
    "papermill": {
     "duration": 0.011112,
     "end_time": "2022-11-22T10:48:29.537765",
     "exception": false,
     "start_time": "2022-11-22T10:48:29.526653",
     "status": "completed"
    },
    "tags": []
   },
   "source": [
    "<a id=\"data_processing\"></a>\n",
    "## Анализ данных\n",
    "Собранны данные по запросу \n",
    "- профессия - все вакансии в которых в названии которых есть слово `Android`\n",
    "- район поиска - `Россия`\n"
   ]
  },
  {
   "cell_type": "code",
   "execution_count": 3,
   "id": "fb9a336f",
   "metadata": {
    "execution": {
     "iopub.execute_input": "2022-11-22T10:48:29.561798Z",
     "iopub.status.busy": "2022-11-22T10:48:29.561489Z",
     "iopub.status.idle": "2022-11-22T10:48:29.594456Z",
     "shell.execute_reply": "2022-11-22T10:48:29.593605Z"
    },
    "papermill": {
     "duration": 0.047179,
     "end_time": "2022-11-22T10:48:29.596221",
     "exception": false,
     "start_time": "2022-11-22T10:48:29.549042",
     "status": "completed"
    },
    "tags": []
   },
   "outputs": [
    {
     "name": "stdout",
     "output_type": "stream",
     "text": [
      "DataFrame has been uploaded!\n"
     ]
    }
   ],
   "source": [
    "try:\n",
    "    df = pd.read_csv('hh_result.csv')\n",
    "    print('DataFrame has been uploaded!')\n",
    "    df.sample(5)\n",
    "except:\n",
    "    print('CSV file no found :(')"
   ]
  },
  {
   "cell_type": "code",
   "execution_count": 4,
   "id": "5889ebbd",
   "metadata": {
    "execution": {
     "iopub.execute_input": "2022-11-22T10:48:29.621512Z",
     "iopub.status.busy": "2022-11-22T10:48:29.621137Z",
     "iopub.status.idle": "2022-11-22T10:48:29.644761Z",
     "shell.execute_reply": "2022-11-22T10:48:29.642730Z"
    },
    "papermill": {
     "duration": 0.03988,
     "end_time": "2022-11-22T10:48:29.647699",
     "exception": false,
     "start_time": "2022-11-22T10:48:29.607819",
     "status": "completed"
    },
    "tags": []
   },
   "outputs": [
    {
     "name": "stdout",
     "output_type": "stream",
     "text": [
      "<class 'pandas.core.frame.DataFrame'>\n",
      "RangeIndex: 524 entries, 0 to 523\n",
      "Data columns (total 17 columns):\n",
      " #   Column        Non-Null Count  Dtype  \n",
      "---  ------        --------------  -----  \n",
      " 0   id            524 non-null    int64  \n",
      " 1   premium       524 non-null    bool   \n",
      " 2   vacancy_name  524 non-null    object \n",
      " 3   city          524 non-null    object \n",
      " 4   salary        524 non-null    bool   \n",
      " 5   salary_from   116 non-null    float64\n",
      " 6   salary_to     94 non-null     float64\n",
      " 7   currency      145 non-null    object \n",
      " 8   experience    524 non-null    object \n",
      " 9   schedule      524 non-null    object \n",
      " 10  employment    524 non-null    object \n",
      " 11  description   524 non-null    object \n",
      " 12  skills        347 non-null    object \n",
      " 13  employer      524 non-null    object \n",
      " 14  publish_date  524 non-null    object \n",
      " 15  vacancy_url   524 non-null    object \n",
      " 16  has_test      524 non-null    bool   \n",
      "dtypes: bool(3), float64(2), int64(1), object(11)\n",
      "memory usage: 59.0+ KB\n"
     ]
    }
   ],
   "source": [
    "df.info()"
   ]
  },
  {
   "cell_type": "markdown",
   "id": "15493d20",
   "metadata": {
    "papermill": {
     "duration": 0.011019,
     "end_time": "2022-11-22T10:48:29.670708",
     "exception": false,
     "start_time": "2022-11-22T10:48:29.659689",
     "status": "completed"
    },
    "tags": []
   },
   "source": [
    "В таблице есть пропуски в данных о зарплате и ключевых умениях. Остальные данные заполнены полностью. Связано это с тем что на сервисе hh.ru столбцы в которых есть пропуски не являются обязательными к заполнению."
   ]
  },
  {
   "cell_type": "markdown",
   "id": "5532ec89",
   "metadata": {
    "papermill": {
     "duration": 0.012546,
     "end_time": "2022-11-22T10:48:29.695241",
     "exception": false,
     "start_time": "2022-11-22T10:48:29.682695",
     "status": "completed"
    },
    "tags": []
   },
   "source": [
    "<a id=\"data_drop_dublicates\"></a>\n",
    "### Удаление явных дубликатов и мусора"
   ]
  },
  {
   "cell_type": "code",
   "execution_count": 5,
   "id": "eb23c7c7",
   "metadata": {},
   "outputs": [
    {
     "data": {
      "text/plain": [
       "0"
      ]
     },
     "metadata": {},
     "output_type": "display_data"
    },
    {
     "data": {
      "text/plain": [
       "0"
      ]
     },
     "execution_count": 5,
     "metadata": {},
     "output_type": "execute_result"
    }
   ],
   "source": [
    "display(df.duplicated().sum())\n",
    "df = df.drop_duplicates().reset_index(drop=True)\n",
    "df.duplicated().sum()"
   ]
  },
  {
   "cell_type": "code",
   "execution_count": 6,
   "id": "b3c1a512",
   "metadata": {},
   "outputs": [],
   "source": [
    "# Создаем DataFrame с отфильтрованными строками\n",
    "df_filtered = df[df['vacancy_name'].str.contains('курьер', case=False) | df['vacancy_name'].str.contains('ремонт', case=False) | df['vacancy_name'].str.contains('продавец', case=False)]\n",
    "\n",
    "# Находим индексы строк в исходном DataFrame, которые нужно удалить\n",
    "indexes_to_drop = df_filtered.index\n",
    "\n",
    "# Удаляем строки из исходного DataFrame\n",
    "df = df.drop(indexes_to_drop)\n",
    "\n",
    "# Сбрасываем индексы\n",
    "df = df.reset_index(drop=True)"
   ]
  },
  {
   "cell_type": "markdown",
   "id": "eaee096f",
   "metadata": {
    "papermill": {
     "duration": 0.011724,
     "end_time": "2022-11-22T10:48:29.823289",
     "exception": false,
     "start_time": "2022-11-22T10:48:29.811565",
     "status": "completed"
    },
    "tags": []
   },
   "source": [
    "<a id=\"data_processing_usd\"></a>\n",
    "### Обработка валютных вакансий\n",
    "Вакансий в которых зарплата не в рублях, очень мало. Удаляем эти строки."
   ]
  },
  {
   "cell_type": "code",
   "execution_count": 7,
   "id": "505007eb",
   "metadata": {
    "execution": {
     "iopub.execute_input": "2022-11-22T10:48:29.853032Z",
     "iopub.status.busy": "2022-11-22T10:48:29.852685Z",
     "iopub.status.idle": "2022-11-22T10:48:29.876827Z",
     "shell.execute_reply": "2022-11-22T10:48:29.874675Z"
    },
    "papermill": {
     "duration": 0.043002,
     "end_time": "2022-11-22T10:48:29.879257",
     "exception": false,
     "start_time": "2022-11-22T10:48:29.836255",
     "status": "completed"
    },
    "tags": []
   },
   "outputs": [
    {
     "data": {
      "text/plain": [
       "array([nan, 'RUB', 'USD'], dtype=object)"
      ]
     },
     "metadata": {},
     "output_type": "display_data"
    },
    {
     "data": {
      "text/plain": [
       "8"
      ]
     },
     "metadata": {},
     "output_type": "display_data"
    },
    {
     "data": {
      "text/plain": [
       "array([nan, 'RUB'], dtype=object)"
      ]
     },
     "metadata": {},
     "output_type": "display_data"
    }
   ],
   "source": [
    "display(df['currency'].unique())\n",
    "display(df.query('currency==\"USD\"')['currency'].count())\n",
    "df = df.drop(df.query('currency==\"USD\"').index).reset_index(drop=True)\n",
    "display(df['currency'].unique())"
   ]
  },
  {
   "cell_type": "code",
   "execution_count": 8,
   "id": "e60d611a",
   "metadata": {
    "execution": {
     "iopub.execute_input": "2022-11-22T10:48:29.906075Z",
     "iopub.status.busy": "2022-11-22T10:48:29.905277Z",
     "iopub.status.idle": "2022-11-22T10:48:29.917554Z",
     "shell.execute_reply": "2022-11-22T10:48:29.916820Z"
    },
    "papermill": {
     "duration": 0.027856,
     "end_time": "2022-11-22T10:48:29.919526",
     "exception": false,
     "start_time": "2022-11-22T10:48:29.891670",
     "status": "completed"
    },
    "tags": []
   },
   "outputs": [
    {
     "name": "stdout",
     "output_type": "stream",
     "text": [
      "<class 'pandas.core.frame.DataFrame'>\n",
      "RangeIndex: 490 entries, 0 to 489\n",
      "Data columns (total 17 columns):\n",
      " #   Column        Non-Null Count  Dtype  \n",
      "---  ------        --------------  -----  \n",
      " 0   id            490 non-null    int64  \n",
      " 1   premium       490 non-null    bool   \n",
      " 2   vacancy_name  490 non-null    object \n",
      " 3   city          490 non-null    object \n",
      " 4   salary        490 non-null    bool   \n",
      " 5   salary_from   85 non-null     float64\n",
      " 6   salary_to     67 non-null     float64\n",
      " 7   currency      111 non-null    object \n",
      " 8   experience    490 non-null    object \n",
      " 9   schedule      490 non-null    object \n",
      " 10  employment    490 non-null    object \n",
      " 11  description   490 non-null    object \n",
      " 12  skills        339 non-null    object \n",
      " 13  employer      490 non-null    object \n",
      " 14  publish_date  490 non-null    object \n",
      " 15  vacancy_url   490 non-null    object \n",
      " 16  has_test      490 non-null    bool   \n",
      "dtypes: bool(3), float64(2), int64(1), object(11)\n",
      "memory usage: 55.2+ KB\n"
     ]
    }
   ],
   "source": [
    "df.info()"
   ]
  },
  {
   "cell_type": "markdown",
   "id": "cfa37aff",
   "metadata": {
    "papermill": {
     "duration": 0.011601,
     "end_time": "2022-11-22T10:48:29.942922",
     "exception": false,
     "start_time": "2022-11-22T10:48:29.931321",
     "status": "completed"
    },
    "tags": []
   },
   "source": [
    "<a id=\"data_add_new_column\"></a>\n",
    "### Добавляем столбец со средней зарплатой\n",
    "Создаем новую колонку с средней зарплатой"
   ]
  },
  {
   "cell_type": "code",
   "execution_count": 9,
   "id": "77baa51c",
   "metadata": {
    "execution": {
     "iopub.execute_input": "2022-11-22T10:48:29.968753Z",
     "iopub.status.busy": "2022-11-22T10:48:29.968337Z",
     "iopub.status.idle": "2022-11-22T10:48:29.976391Z",
     "shell.execute_reply": "2022-11-22T10:48:29.974529Z"
    },
    "papermill": {
     "duration": 0.023745,
     "end_time": "2022-11-22T10:48:29.978628",
     "exception": false,
     "start_time": "2022-11-22T10:48:29.954883",
     "status": "completed"
    },
    "tags": []
   },
   "outputs": [],
   "source": [
    "def salary_mean(row):\n",
    "    fr = np.isnan(row['salary_from'])\n",
    "    to = np.isnan(row['salary_to'])\n",
    "    \n",
    "    if fr and to:\n",
    "        return None\n",
    "    elif fr == False and to == False:\n",
    "        return (row['salary_from']+row['salary_to'])/2\n",
    "    elif fr  and to == False:\n",
    "        return row['salary_to']\n",
    "    elif fr == False and to:\n",
    "        return row['salary_from']"
   ]
  },
  {
   "cell_type": "markdown",
   "id": "51cf7e1b",
   "metadata": {
    "papermill": {
     "duration": 0.01161,
     "end_time": "2022-11-22T10:48:30.002345",
     "exception": false,
     "start_time": "2022-11-22T10:48:29.990735",
     "status": "completed"
    },
    "tags": []
   },
   "source": [
    "Вызываем функцию расчета и добавления столбца со средней запрлатой"
   ]
  },
  {
   "cell_type": "code",
   "execution_count": 10,
   "id": "1cadaebd",
   "metadata": {
    "execution": {
     "iopub.execute_input": "2022-11-22T10:48:30.028788Z",
     "iopub.status.busy": "2022-11-22T10:48:30.027656Z",
     "iopub.status.idle": "2022-11-22T10:48:30.090298Z",
     "shell.execute_reply": "2022-11-22T10:48:30.088686Z"
    },
    "papermill": {
     "duration": 0.07819,
     "end_time": "2022-11-22T10:48:30.092334",
     "exception": false,
     "start_time": "2022-11-22T10:48:30.014144",
     "status": "completed"
    },
    "tags": []
   },
   "outputs": [
    {
     "name": "stdout",
     "output_type": "stream",
     "text": [
      "<class 'pandas.core.frame.DataFrame'>\n",
      "RangeIndex: 490 entries, 0 to 489\n",
      "Data columns (total 18 columns):\n",
      " #   Column        Non-Null Count  Dtype  \n",
      "---  ------        --------------  -----  \n",
      " 0   id            490 non-null    int64  \n",
      " 1   premium       490 non-null    bool   \n",
      " 2   vacancy_name  490 non-null    object \n",
      " 3   city          490 non-null    object \n",
      " 4   salary        490 non-null    bool   \n",
      " 5   salary_from   85 non-null     float64\n",
      " 6   salary_to     67 non-null     float64\n",
      " 7   currency      111 non-null    object \n",
      " 8   experience    490 non-null    object \n",
      " 9   schedule      490 non-null    object \n",
      " 10  employment    490 non-null    object \n",
      " 11  description   490 non-null    object \n",
      " 12  skills        339 non-null    object \n",
      " 13  employer      490 non-null    object \n",
      " 14  publish_date  490 non-null    object \n",
      " 15  vacancy_url   490 non-null    object \n",
      " 16  has_test      490 non-null    bool   \n",
      " 17  salary_mean   111 non-null    float64\n",
      "dtypes: bool(3), float64(3), int64(1), object(11)\n",
      "memory usage: 59.0+ KB\n"
     ]
    }
   ],
   "source": [
    "df['salary_mean'] = df.apply(salary_mean, axis=1) \n",
    "df.info()"
   ]
  },
  {
   "cell_type": "markdown",
   "id": "0cb1f531",
   "metadata": {
    "papermill": {
     "duration": 0.011742,
     "end_time": "2022-11-22T10:48:30.115974",
     "exception": false,
     "start_time": "2022-11-22T10:48:30.104232",
     "status": "completed"
    },
    "tags": []
   },
   "source": [
    "<a id=\"data_analysis_salary\"></a>\n",
    "## Анализ зарплат \"от/до\""
   ]
  },
  {
   "cell_type": "markdown",
   "id": "43062c72",
   "metadata": {
    "papermill": {
     "duration": 0.011755,
     "end_time": "2022-11-22T10:48:30.139721",
     "exception": false,
     "start_time": "2022-11-22T10:48:30.127966",
     "status": "completed"
    },
    "tags": []
   },
   "source": [
    " ~~Для вывода графиков сделаем срез, убрав экстримальные значения в зарплатах.~~"
   ]
  },
  {
   "cell_type": "code",
   "execution_count": 11,
   "id": "afb30d75",
   "metadata": {
    "execution": {
     "iopub.execute_input": "2022-11-22T10:48:30.165736Z",
     "iopub.status.busy": "2022-11-22T10:48:30.165425Z",
     "iopub.status.idle": "2022-11-22T10:48:30.174151Z",
     "shell.execute_reply": "2022-11-22T10:48:30.173227Z"
    },
    "papermill": {
     "duration": 0.024177,
     "end_time": "2022-11-22T10:48:30.176038",
     "exception": false,
     "start_time": "2022-11-22T10:48:30.151861",
     "status": "completed"
    },
    "tags": []
   },
   "outputs": [],
   "source": [
    "# dg = df.query('salary_from<200_000 & salary_to<300_000 & currency==\"RUB\"')\n",
    "dg = df"
   ]
  },
  {
   "cell_type": "markdown",
   "id": "85be9e16",
   "metadata": {
    "papermill": {
     "duration": 0.012818,
     "end_time": "2022-11-22T10:48:30.201158",
     "exception": false,
     "start_time": "2022-11-22T10:48:30.188340",
     "status": "completed"
    },
    "tags": []
   },
   "source": [
    "<a id=\"data_salary_from_to\"></a>\n",
    "### Распределие зарплат \"от/до\""
   ]
  },
  {
   "cell_type": "code",
   "execution_count": 91,
   "id": "c066aa5d",
   "metadata": {
    "execution": {
     "iopub.execute_input": "2022-11-22T10:48:30.227528Z",
     "iopub.status.busy": "2022-11-22T10:48:30.227107Z",
     "iopub.status.idle": "2022-11-22T10:48:31.585742Z",
     "shell.execute_reply": "2022-11-22T10:48:31.584720Z"
    },
    "papermill": {
     "duration": 1.373926,
     "end_time": "2022-11-22T10:48:31.587590",
     "exception": false,
     "start_time": "2022-11-22T10:48:30.213664",
     "status": "completed"
    },
    "tags": []
   },
   "outputs": [
    {
     "name": "stdout",
     "output_type": "stream",
     "text": [
      "| Describe |\n",
      "|       | salary_from   |||       | salary_to   |\n",
      "|:------|:--------------|||:------|:------------|\n",
      "| count | 8             ||| count | 8           |\n",
      "| mean  | 145,896       ||| mean  | 205,943     |\n",
      "| std   | 135,273       ||| std   | 155,622     |\n",
      "| min   | 85            ||| min   | 67          |\n",
      "| 25%   | 70,862        ||| 25%   | 97,622      |\n",
      "| 50%   | 120,000       ||| 50%   | 206,989     |\n",
      "| 75%   | 176,950       ||| 75%   | 262,500     |\n",
      "| max   | 430,000       ||| max   | 500,000     |\n"
     ]
    },
    {
     "data": {
      "image/png": "[encoded data removed]",
      "text/plain": [
       "<Figure size 1200x800 with 4 Axes>"
      ]
     },
     "metadata": {},
     "output_type": "display_data"
    }
   ],
   "source": [
    "display_side_by_side([dg['salary_from'].describe(),dg['salary_to'].describe()],\"Describe\" )\n",
    "\n",
    "\n",
    "sns.set_palette(\"pastel\")\n",
    "fz = plt.figure('Salary plots', figsize=(12, 8), dpi=100)\n",
    "\n",
    "fz.add_subplot(2, 2, 1)\n",
    "plt.title('From / To: Boxplot')\n",
    "sns.boxplot(data=dg[['salary_from', 'salary_to']].dropna(), width=0.5)\n",
    "\n",
    "fz.add_subplot(2, 2, 2)\n",
    "plt.title('From / To: Swarmplot Distribution')\n",
    "sns.swarmplot(data=dg[['salary_from', 'salary_to']].dropna(), size=3)\n",
    "\n",
    "fz.add_subplot(2, 2, 3)\n",
    "plt.title('From: Distribution ')\n",
    "sns.histplot(dg['salary_from'].dropna(), bins=30, color='C0', kde=True)\n",
    "plt.grid(True)\n",
    "plt.xlim([0, dg['salary_from'].max()])\n",
    "plt.yticks([], [])\n",
    "\n",
    "fz.add_subplot(2, 2, 4)\n",
    "plt.title('To: Distribution')\n",
    "sns.histplot(dg['salary_to'].dropna(), bins=30, color='C1', kde=True)\n",
    "plt.grid(True)\n",
    "plt.xlim([0, dg['salary_to'].max()])\n",
    "plt.yticks([], [])\n",
    "plt.tight_layout()"
   ]
  },
  {
   "cell_type": "markdown",
   "id": "e9e5e8c0",
   "metadata": {
    "papermill": {
     "duration": 0.015007,
     "end_time": "2022-11-22T10:48:31.617492",
     "exception": false,
     "start_time": "2022-11-22T10:48:31.602485",
     "status": "completed"
    },
    "tags": []
   },
   "source": [
    "По графикам видно:\n",
    "\n",
    "\n",
    "Ожидаемо видно что чем выше зарплата тем меньше вакансий."
   ]
  },
  {
   "cell_type": "markdown",
   "id": "f009971b",
   "metadata": {
    "papermill": {
     "duration": 0.014109,
     "end_time": "2022-11-22T10:48:31.646792",
     "exception": false,
     "start_time": "2022-11-22T10:48:31.632683",
     "status": "completed"
    },
    "tags": []
   },
   "source": [
    "<a id=\"data_salary_to_lvl\"></a>\n",
    "### Зависимость зарплаты \"от/до\" от опыта"
   ]
  },
  {
   "cell_type": "code",
   "execution_count": 13,
   "id": "513ffd3e",
   "metadata": {
    "execution": {
     "iopub.execute_input": "2022-11-22T10:48:31.677527Z",
     "iopub.status.busy": "2022-11-22T10:48:31.676965Z",
     "iopub.status.idle": "2022-11-22T10:48:32.263964Z",
     "shell.execute_reply": "2022-11-22T10:48:32.263134Z"
    },
    "papermill": {
     "duration": 0.604432,
     "end_time": "2022-11-22T10:48:32.265762",
     "exception": false,
     "start_time": "2022-11-22T10:48:31.661330",
     "status": "completed"
    },
    "tags": []
   },
   "outputs": [
    {
     "data": {
      "image/png": "[encoded data removed]",
      "text/plain": [
       "<Figure size 1600x800 with 2 Axes>"
      ]
     },
     "metadata": {},
     "output_type": "display_data"
    }
   ],
   "source": [
    "sns.set_palette(\"pastel\")\n",
    "exp_dic = {'Нет опыта': 0, 'От 1 года до 3 лет': 1, 'От 3 до 6 лет': 2, 'Более 6 лет': 3}\n",
    "experience = dg['experience'].map(exp_dic)\n",
    "\n",
    "\n",
    "fig = plt.figure(figsize=(16, 8), dpi=100)\n",
    "plt.suptitle('Salary vs Experience', y=1.02, fontsize=18)\n",
    "\n",
    "fig.add_subplot(1, 2, 1)\n",
    "sns.regplot(x=experience, y=dg['salary_from'], color=\"C0\", x_jitter=.1, scatter_kws={'alpha':0.5})\n",
    "plt.xticks(list(range(4)), labels=exp_dic.keys(), rotation='vertical')\n",
    "\n",
    "fig.add_subplot(1, 2, 2)\n",
    "sns.regplot(x=experience, y=dg['salary_to'], color=\"C1\", x_jitter=.1, scatter_kws={'alpha':0.5})\n",
    "plt.xticks(list(range(4)), labels=exp_dic.keys(), rotation='vertical')\n",
    "\n",
    "plt.tight_layout()"
   ]
  },
  {
   "cell_type": "markdown",
   "id": "633cf6ed",
   "metadata": {
    "papermill": {
     "duration": 0.015836,
     "end_time": "2022-11-22T10:48:32.297686",
     "exception": false,
     "start_time": "2022-11-22T10:48:32.281850",
     "status": "completed"
    },
    "tags": []
   },
   "source": [
    "По графикам можно определить:\n",
    "- больше всего вакансий с требованием опыта `от 1 до 3` и `от 3 до 6`\n",
    "- хорошо видна корреляция `чем больше опыта, тем выше зарплата`"
   ]
  },
  {
   "cell_type": "markdown",
   "id": "f0443d46",
   "metadata": {
    "papermill": {
     "duration": 0.016852,
     "end_time": "2022-11-22T10:48:32.330841",
     "exception": false,
     "start_time": "2022-11-22T10:48:32.313989",
     "status": "completed"
    },
    "tags": []
   },
   "source": [
    "<a id=\"data_salary_mean\"></a>\n",
    "### Анализ сренего зраплаты"
   ]
  },
  {
   "cell_type": "code",
   "execution_count": 14,
   "id": "ec96a982",
   "metadata": {},
   "outputs": [
    {
     "data": {
      "text/plain": [
       "111"
      ]
     },
     "execution_count": 14,
     "metadata": {},
     "output_type": "execute_result"
    }
   ],
   "source": [
    "df['salary_mean'].dropna().size"
   ]
  },
  {
   "cell_type": "code",
   "execution_count": 15,
   "id": "db356854",
   "metadata": {
    "execution": {
     "iopub.execute_input": "2022-11-22T10:48:32.364677Z",
     "iopub.status.busy": "2022-11-22T10:48:32.364272Z",
     "iopub.status.idle": "2022-11-22T10:48:32.991884Z",
     "shell.execute_reply": "2022-11-22T10:48:32.991165Z"
    },
    "papermill": {
     "duration": 0.646674,
     "end_time": "2022-11-22T10:48:32.993656",
     "exception": false,
     "start_time": "2022-11-22T10:48:32.346982",
     "status": "completed"
    },
    "tags": []
   },
   "outputs": [
    {
     "data": {
      "image/png": "[encoded data removed]",
      "text/plain": [
       "<Figure size 1200x800 with 4 Axes>"
      ]
     },
     "metadata": {},
     "output_type": "display_data"
    }
   ],
   "source": [
    "sns.set_palette(\"pastel\")\n",
    "fz = plt.figure('Salary mean plots', figsize=(12, 8), dpi=100)\n",
    "\n",
    "exp_dic = {'Нет опыта': 0, 'От 1 года до 3 лет': 1, 'От 3 до 6 лет': 2, 'Более 6 лет': 3}\n",
    "experience = dg['experience'].map(exp_dic)\n",
    "\n",
    "\n",
    "fz.add_subplot(2, 2, 1);\n",
    "plt.title('Salary mean: Boxplot');\n",
    "sns.boxplot(data=dg[['salary_mean']].dropna(), width=0.4, color='C2');\n",
    "plt.grid(True);\n",
    "\n",
    "fz.add_subplot(2, 2, 2);\n",
    "plt.title('Salary mean: Distribution ');\n",
    "sns.histplot(dg['salary_mean'].dropna(), bins=30, color='C2', kde=True);\n",
    "plt.grid(True);\n",
    "\n",
    "fz.add_subplot(2, 2, 3);\n",
    "plt.title('Mean Salary vs Experience');\n",
    "sns.lineplot(data=dg.pivot_table(index= 'experience', values='salary_mean').sort_values(by='salary_mean'),\n",
    "            x=\"experience\", y=\"salary_mean\",color=\"C2\");\n",
    "plt.grid(True);\n",
    "\n",
    "fz.add_subplot(2, 2, 4);\n",
    "plt.title('Salary vs Experience');\n",
    "sns.regplot(x=experience, y=dg['salary_to'], color=\"C2\", x_jitter=.1, scatter_kws={'alpha':0.5});\n",
    "plt.xticks(list(range(4)), labels=exp_dic.keys());\n"
   ]
  },
  {
   "cell_type": "markdown",
   "id": "1160ede7",
   "metadata": {
    "papermill": {
     "duration": 0.017428,
     "end_time": "2022-11-22T10:48:33.027766",
     "exception": false,
     "start_time": "2022-11-22T10:48:33.010338",
     "status": "completed"
    },
    "tags": []
   },
   "source": [
    "<a id=\"data_salary_conclusion\"></a>\n",
    "### Вывод\n",
    "Проанализировав данные по `от/до` и `среднего по ним` зарплат."
   ]
  },
  {
   "cell_type": "markdown",
   "id": "f5bcfe36",
   "metadata": {
    "papermill": {
     "duration": 0.018857,
     "end_time": "2022-11-22T10:48:33.064483",
     "exception": false,
     "start_time": "2022-11-22T10:48:33.045626",
     "status": "completed"
    },
    "tags": []
   },
   "source": [
    "<a id=\"data_salary_city\"></a>\n",
    "### Зависимость зарплаты от города"
   ]
  },
  {
   "cell_type": "markdown",
   "id": "24553fd3",
   "metadata": {
    "papermill": {
     "duration": 0.016966,
     "end_time": "2022-11-22T10:48:33.099247",
     "exception": false,
     "start_time": "2022-11-22T10:48:33.082281",
     "status": "completed"
    },
    "tags": []
   },
   "source": [
    "Для анализа зависимости зарплаты от города, для начала найдем топ 10 самых частых городов в датафрейме."
   ]
  },
  {
   "cell_type": "code",
   "execution_count": 16,
   "id": "8f43eeea",
   "metadata": {
    "execution": {
     "iopub.execute_input": "2022-11-22T10:48:33.134659Z",
     "iopub.status.busy": "2022-11-22T10:48:33.134321Z",
     "iopub.status.idle": "2022-11-22T10:48:33.150890Z",
     "shell.execute_reply": "2022-11-22T10:48:33.149906Z"
    },
    "papermill": {
     "duration": 0.03774,
     "end_time": "2022-11-22T10:48:33.153730",
     "exception": false,
     "start_time": "2022-11-22T10:48:33.115990",
     "status": "completed"
    },
    "tags": []
   },
   "outputs": [
    {
     "data": {
      "text/html": [
       "<div>\n",
       "<style scoped>\n",
       "    .dataframe tbody tr th:only-of-type {\n",
       "        vertical-align: middle;\n",
       "    }\n",
       "\n",
       "    .dataframe tbody tr th {\n",
       "        vertical-align: top;\n",
       "    }\n",
       "\n",
       "    .dataframe thead th {\n",
       "        text-align: right;\n",
       "    }\n",
       "</style>\n",
       "<table border=\"1\" class=\"dataframe\">\n",
       "  <thead>\n",
       "    <tr style=\"text-align: right;\">\n",
       "      <th></th>\n",
       "      <th>vacancy_name</th>\n",
       "    </tr>\n",
       "    <tr>\n",
       "      <th>city</th>\n",
       "      <th></th>\n",
       "    </tr>\n",
       "  </thead>\n",
       "  <tbody>\n",
       "    <tr>\n",
       "      <th>Москва</th>\n",
       "      <td>266</td>\n",
       "    </tr>\n",
       "    <tr>\n",
       "      <th>Санкт-Петербург</th>\n",
       "      <td>90</td>\n",
       "    </tr>\n",
       "    <tr>\n",
       "      <th>Новосибирск</th>\n",
       "      <td>17</td>\n",
       "    </tr>\n",
       "    <tr>\n",
       "      <th>Казань</th>\n",
       "      <td>12</td>\n",
       "    </tr>\n",
       "    <tr>\n",
       "      <th>Нижний Новгород</th>\n",
       "      <td>10</td>\n",
       "    </tr>\n",
       "    <tr>\n",
       "      <th>Екатеринбург</th>\n",
       "      <td>8</td>\n",
       "    </tr>\n",
       "    <tr>\n",
       "      <th>Ростов-на-Дону</th>\n",
       "      <td>8</td>\n",
       "    </tr>\n",
       "    <tr>\n",
       "      <th>Томск</th>\n",
       "      <td>5</td>\n",
       "    </tr>\n",
       "    <tr>\n",
       "      <th>Калининград</th>\n",
       "      <td>4</td>\n",
       "    </tr>\n",
       "    <tr>\n",
       "      <th>Краснодар</th>\n",
       "      <td>4</td>\n",
       "    </tr>\n",
       "  </tbody>\n",
       "</table>\n",
       "</div>"
      ],
      "text/plain": [
       "                 vacancy_name\n",
       "city                         \n",
       "Москва                    266\n",
       "Санкт-Петербург            90\n",
       "Новосибирск                17\n",
       "Казань                     12\n",
       "Нижний Новгород            10\n",
       "Екатеринбург                8\n",
       "Ростов-на-Дону              8\n",
       "Томск                       5\n",
       "Калининград                 4\n",
       "Краснодар                   4"
      ]
     },
     "execution_count": 16,
     "metadata": {},
     "output_type": "execute_result"
    }
   ],
   "source": [
    "top_10 = df[df.city.isin(df['city'].value_counts()[0:10].index)]\n",
    "top_10.pivot_table(index='city',values='vacancy_name',aggfunc='count').sort_values(by='vacancy_name',ascending=False)"
   ]
  },
  {
   "cell_type": "markdown",
   "id": "93013903",
   "metadata": {
    "papermill": {
     "duration": 0.017603,
     "end_time": "2022-11-22T10:48:33.188532",
     "exception": false,
     "start_time": "2022-11-22T10:48:33.170929",
     "status": "completed"
    },
    "tags": []
   },
   "source": [
    "В топ 10 ожидаемо и с огромным перевесом, попала Москва и Петербург. А так же другие города миллионники. Для анализа возьмем следующие срезы:\n",
    "- Москва\n",
    "- Петербург\n",
    "- все остальные города"
   ]
  },
  {
   "cell_type": "code",
   "execution_count": 17,
   "id": "51392477",
   "metadata": {
    "execution": {
     "iopub.execute_input": "2022-11-22T10:48:33.225634Z",
     "iopub.status.busy": "2022-11-22T10:48:33.225083Z",
     "iopub.status.idle": "2022-11-22T10:48:33.659735Z",
     "shell.execute_reply": "2022-11-22T10:48:33.658103Z"
    },
    "papermill": {
     "duration": 0.455388,
     "end_time": "2022-11-22T10:48:33.661573",
     "exception": false,
     "start_time": "2022-11-22T10:48:33.206185",
     "status": "completed"
    },
    "tags": []
   },
   "outputs": [
    {
     "data": {
      "image/png": "[encoded data removed]",
      "text/plain": [
       "<Figure size 1200x800 with 3 Axes>"
      ]
     },
     "metadata": {},
     "output_type": "display_data"
    }
   ],
   "source": [
    "sns.set_palette(\"pastel\")\n",
    "fz = plt.figure('Salary plots', figsize=(12, 8), dpi=100)\n",
    "\n",
    "fz.add_subplot(2, 2, 1)\n",
    "plt.title('Salary mean: Москва')\n",
    "sns.boxplot(data=dg.query('city == \"Москва\"')\n",
    "                        ['salary_mean'].dropna().reset_index(drop=True), width=0.4,  color='C1');\n",
    "plt.grid(True)\n",
    "\n",
    "fz.add_subplot(2, 2, 2)\n",
    "plt.title('Salary mean: Санкт-Петербург')\n",
    "sns.boxplot(data=df.query('city == \"Санкт-Петербург\"')\n",
    "                        ['salary_mean'].dropna().reset_index(drop=True), width=0.4,  color='C2');\n",
    "plt.grid(True)\n",
    "\n",
    "\n",
    "fz.add_subplot(2, 2, 3)\n",
    "plt.title('Salary mean: остальные регионы России')\n",
    "sns.boxplot(data=dg.query('city not in [\"Москва\", \"Санкт-Петербург\"]')\n",
    "                        ['salary_mean'].dropna().reset_index(drop=True), width=0.4,  color='C0');\n",
    "plt.grid(True)"
   ]
  },
  {
   "cell_type": "markdown",
   "id": "906f759a",
   "metadata": {
    "papermill": {
     "duration": 0.017798,
     "end_time": "2022-11-22T10:48:33.697142",
     "exception": false,
     "start_time": "2022-11-22T10:48:33.679344",
     "status": "completed"
    },
    "tags": []
   },
   "source": [
    "<a id=\"data_salary_city_conclusion\"></a>\n",
    "### Вывод\n",
    "По графикам видна разница зарплат в Москве и Петербурге и остальных регионах России."
   ]
  },
  {
   "cell_type": "markdown",
   "id": "92dc37a3",
   "metadata": {
    "papermill": {
     "duration": 0.020714,
     "end_time": "2022-11-22T10:48:33.737052",
     "exception": false,
     "start_time": "2022-11-22T10:48:33.716338",
     "status": "completed"
    },
    "tags": []
   },
   "source": [
    "<a id=\"data_skills_description\"></a>\n",
    "## Анализ навыков и описания вакансий"
   ]
  },
  {
   "cell_type": "markdown",
   "id": "250c553e",
   "metadata": {
    "papermill": {
     "duration": 0.017763,
     "end_time": "2022-11-22T10:48:33.772690",
     "exception": false,
     "start_time": "2022-11-22T10:48:33.754927",
     "status": "completed"
    },
    "tags": []
   },
   "source": [
    "#### Анализ ключевых навыков\n",
    "Функция для анализа ключевых навыков и составления списка (ключевой навык - количество повторений)"
   ]
  },
  {
   "cell_type": "code",
   "execution_count": 18,
   "id": "48eaca84",
   "metadata": {
    "execution": {
     "iopub.execute_input": "2022-11-22T10:48:33.809520Z",
     "iopub.status.busy": "2022-11-22T10:48:33.809176Z",
     "iopub.status.idle": "2022-11-22T10:48:33.816979Z",
     "shell.execute_reply": "2022-11-22T10:48:33.816283Z"
    },
    "papermill": {
     "duration": 0.028371,
     "end_time": "2022-11-22T10:48:33.818648",
     "exception": false,
     "start_time": "2022-11-22T10:48:33.790277",
     "status": "completed"
    },
    "tags": []
   },
   "outputs": [],
   "source": [
    "# принимает:\n",
    "# 'df' - таблица с данными\n",
    "\n",
    "# возвращает:\n",
    "# Series с отсортированными значениями (ключевой навых - количество повторений)\n",
    "\n",
    "\n",
    "def top_skills(df):\n",
    "    # переводим ключевые навыки из Series в List\n",
    "    skills_df = df['skills'].to_list()\n",
    "    # список для всех ключевых навыков со всех вакансий\n",
    "    skills = []\n",
    "    # заполняем список всех ключевых навыков\n",
    "    for skill in skills_df:\n",
    "        if skill == skill:\n",
    "            for el in skill[1:-1].split(', '):\n",
    "                if el != '':\n",
    "                    skills.append(re.sub('\\'', '', el.lower()))\n",
    "\n",
    "    # выбираем все уникальные значения ключевых навыков\n",
    "    set_skills = set(skills)\n",
    "    # создаем словарь с уникальными словами и их количеством повторений\n",
    "    dct_skills = {el:skills.count(el) for el in set_skills}\n",
    "    # сортируем данные\n",
    "    srt_skills = dict(sorted(dct_skills.items(), key=lambda x: x[1], reverse=True))\n",
    "    # возвращаем отсортированные данные (ключевой навык - количество повторений)\n",
    "    return pd.Series(srt_skills, name='skills')"
   ]
  },
  {
   "cell_type": "markdown",
   "id": "e4f318e5",
   "metadata": {
    "papermill": {
     "duration": 0.017881,
     "end_time": "2022-11-22T10:48:33.854604",
     "exception": false,
     "start_time": "2022-11-22T10:48:33.836723",
     "status": "completed"
    },
    "tags": []
   },
   "source": [
    "<a id=\"data_description\"></a>\n",
    "### Анализ описания вакансий\n",
    "Функция для анализа всех слов в описании вакансий, на выбор англ или рус языка. И составления списка (слово - количество повторений)"
   ]
  },
  {
   "cell_type": "code",
   "execution_count": 19,
   "id": "d4846d6a",
   "metadata": {
    "execution": {
     "iopub.execute_input": "2022-11-22T10:48:33.893714Z",
     "iopub.status.busy": "2022-11-22T10:48:33.893342Z",
     "iopub.status.idle": "2022-11-22T10:48:33.901118Z",
     "shell.execute_reply": "2022-11-22T10:48:33.900419Z"
    },
    "papermill": {
     "duration": 0.029519,
     "end_time": "2022-11-22T10:48:33.903074",
     "exception": false,
     "start_time": "2022-11-22T10:48:33.873555",
     "status": "completed"
    },
    "tags": []
   },
   "outputs": [],
   "source": [
    "# принимает:\n",
    "# 'df' - таблица с данными\n",
    "# 'lang' - на каком языке ищем повторы слов\n",
    "# 'word_length' - пороговое кол-во символов в слове\n",
    "\n",
    "# возвращает:\n",
    "# Series с отсортированными значениями (слово - количество повоторений) \n",
    "\n",
    "def top_description_words(df, lang='en', word_length=2):\n",
    "    # на каком языке искать слова\n",
    "    if lang == 'ru':\n",
    "        lang = '[а-яА-Я]+'\n",
    "    else:\n",
    "        lang = '[a-zA-Z]+'\n",
    "    \n",
    "    # преобразуем series в list\n",
    "    words_df = df['description'].to_list()\n",
    "    # убираем лишнее из строки и переводим все символы в нижний регистр\n",
    "    words_ls = ' '.join([re.sub('quot', ' ', \n",
    "                         re.sub(' +', ' ', \n",
    "                         re.sub('\\d+', '', \n",
    "                         el.strip().lower()))) \n",
    "                         for el in words_df])\n",
    "    # поиск все отдельных слов в зависимости от выбранного языка\n",
    "    words_re = re.findall(lang, words_ls)\n",
    "    # отбрасываем все слова короче word_length символов\n",
    "    words_l2 = [el for el in words_re if len(el) > word_length]\n",
    "    # отделяем все уникальные слова\n",
    "    words_st = set(words_l2)\n",
    "    # создаем словарь с уникальными словами и их количеством повторений\n",
    "    words_cnt = {el : words_l2.count(el) for el in words_st}\n",
    "    # возращаем Series с отсортированными значениями (слово - количество повоторений)\n",
    "    return pd.Series(dict(sorted(words_cnt.items(), key=lambda x: x[1], reverse=True)))"
   ]
  },
  {
   "cell_type": "markdown",
   "id": "457fbfe1",
   "metadata": {
    "papermill": {
     "duration": 0.017849,
     "end_time": "2022-11-22T10:48:33.939483",
     "exception": false,
     "start_time": "2022-11-22T10:48:33.921634",
     "status": "completed"
    },
    "tags": []
   },
   "source": [
    "Ищем самые часто повторяющиеся слова:\n",
    "- на русском\n",
    "- на английском\n",
    "\n",
    "**Очень долго обрабатывает, лучше запустить 1 раз**"
   ]
  },
  {
   "cell_type": "code",
   "execution_count": 20,
   "id": "64d0baf0",
   "metadata": {
    "execution": {
     "iopub.execute_input": "2022-11-22T10:48:33.978865Z",
     "iopub.status.busy": "2022-11-22T10:48:33.978431Z",
     "iopub.status.idle": "2022-11-22T10:51:04.727621Z",
     "shell.execute_reply": "2022-11-22T10:51:04.726153Z"
    },
    "papermill": {
     "duration": 150.772752,
     "end_time": "2022-11-22T10:51:04.730345",
     "exception": false,
     "start_time": "2022-11-22T10:48:33.957593",
     "status": "completed"
    },
    "tags": []
   },
   "outputs": [],
   "source": [
    "# поиск самых часто повторяющихся ключевых навыков\n",
    "top_ds_skills = top_skills(df)\n",
    "# поиск самых часто повторяющихся слов в описании вакансии на английском\n",
    "top_ds_en_words = top_description_words(df, 'en')\n",
    "# поиск самых часто повторяющихся слов в описании вакансии на русском\n",
    "top_ds_ru_words = top_description_words(df, 'ru', 3)"
   ]
  },
  {
   "cell_type": "markdown",
   "id": "e3515682",
   "metadata": {
    "papermill": {
     "duration": 0.01848,
     "end_time": "2022-11-22T10:51:04.767684",
     "exception": false,
     "start_time": "2022-11-22T10:51:04.749204",
     "status": "completed"
    },
    "tags": []
   },
   "source": [
    "Выводим на экран самые часто встречающиеся:\n",
    "- ключевые навыки\n",
    "- повторяющиеся англ слова в описании вакансий\n",
    "- повторяющиеся рус слова в описании вакансий"
   ]
  },
  {
   "cell_type": "code",
   "execution_count": 21,
   "id": "8a6d12e1",
   "metadata": {
    "execution": {
     "iopub.execute_input": "2022-11-22T10:51:04.807605Z",
     "iopub.status.busy": "2022-11-22T10:51:04.807228Z",
     "iopub.status.idle": "2022-11-22T10:51:04.827912Z",
     "shell.execute_reply": "2022-11-22T10:51:04.826966Z"
    },
    "papermill": {
     "duration": 0.042793,
     "end_time": "2022-11-22T10:51:04.829566",
     "exception": false,
     "start_time": "2022-11-22T10:51:04.786773",
     "status": "completed"
    },
    "tags": []
   },
   "outputs": [
    {
     "data": {
      "text/html": [
       "<style type=\"text/css\">\n",
       "#T_d5592_row0_col0, #T_d5592_row0_col1, #T_d5592_row1_col0, #T_d5592_row1_col1, #T_d5592_row2_col0, #T_d5592_row2_col1, #T_d5592_row3_col0, #T_d5592_row3_col1, #T_d5592_row4_col0, #T_d5592_row4_col1, #T_d5592_row5_col0, #T_d5592_row5_col1, #T_d5592_row6_col0, #T_d5592_row6_col1, #T_d5592_row7_col0, #T_d5592_row7_col1, #T_d5592_row8_col0, #T_d5592_row8_col1, #T_d5592_row9_col0, #T_d5592_row9_col1, #T_d5592_row10_col0, #T_d5592_row10_col1, #T_d5592_row11_col0, #T_d5592_row11_col1, #T_d5592_row12_col0, #T_d5592_row12_col1, #T_d5592_row13_col0, #T_d5592_row13_col1, #T_d5592_row14_col0, #T_d5592_row14_col1, #T_d5592_row15_col0, #T_d5592_row15_col1, #T_d5592_row16_col0, #T_d5592_row16_col1, #T_d5592_row17_col0, #T_d5592_row17_col1, #T_d5592_row18_col0, #T_d5592_row18_col1, #T_d5592_row19_col0, #T_d5592_row19_col1 {\n",
       "  text-align: left;\n",
       "}\n",
       "</style>\n",
       "<table id=\"T_d5592\" style='display:inline'>\n",
       "  <caption>Top skills:</caption>\n",
       "  <thead>\n",
       "    <tr>\n",
       "      <th class=\"blank level0\" >&nbsp;</th>\n",
       "      <th id=\"T_d5592_level0_col0\" class=\"col_heading level0 col0\" >skills</th>\n",
       "      <th id=\"T_d5592_level0_col1\" class=\"col_heading level0 col1\" >count</th>\n",
       "    </tr>\n",
       "  </thead>\n",
       "  <tbody>\n",
       "    <tr>\n",
       "      <th id=\"T_d5592_level0_row0\" class=\"row_heading level0 row0\" >0</th>\n",
       "      <td id=\"T_d5592_row0_col0\" class=\"data row0 col0\" >kotlin</td>\n",
       "      <td id=\"T_d5592_row0_col1\" class=\"data row0 col1\" >263</td>\n",
       "    </tr>\n",
       "    <tr>\n",
       "      <th id=\"T_d5592_level0_row1\" class=\"row_heading level0 row1\" >1</th>\n",
       "      <td id=\"T_d5592_row1_col0\" class=\"data row1 col0\" >android</td>\n",
       "      <td id=\"T_d5592_row1_col1\" class=\"data row1 col1\" >252</td>\n",
       "    </tr>\n",
       "    <tr>\n",
       "      <th id=\"T_d5592_level0_row2\" class=\"row_heading level0 row2\" >2</th>\n",
       "      <td id=\"T_d5592_row2_col0\" class=\"data row2 col0\" >android sdk</td>\n",
       "      <td id=\"T_d5592_row2_col1\" class=\"data row2 col1\" >159</td>\n",
       "    </tr>\n",
       "    <tr>\n",
       "      <th id=\"T_d5592_level0_row3\" class=\"row_heading level0 row3\" >3</th>\n",
       "      <td id=\"T_d5592_row3_col0\" class=\"data row3 col0\" >java</td>\n",
       "      <td id=\"T_d5592_row3_col1\" class=\"data row3 col1\" >143</td>\n",
       "    </tr>\n",
       "    <tr>\n",
       "      <th id=\"T_d5592_level0_row4\" class=\"row_heading level0 row4\" >4</th>\n",
       "      <td id=\"T_d5592_row4_col0\" class=\"data row4 col0\" >git</td>\n",
       "      <td id=\"T_d5592_row4_col1\" class=\"data row4 col1\" >84</td>\n",
       "    </tr>\n",
       "    <tr>\n",
       "      <th id=\"T_d5592_level0_row5\" class=\"row_heading level0 row5\" >5</th>\n",
       "      <td id=\"T_d5592_row5_col0\" class=\"data row5 col0\" >mvvm</td>\n",
       "      <td id=\"T_d5592_row5_col1\" class=\"data row5 col1\" >52</td>\n",
       "    </tr>\n",
       "    <tr>\n",
       "      <th id=\"T_d5592_level0_row6\" class=\"row_heading level0 row6\" >6</th>\n",
       "      <td id=\"T_d5592_row6_col0\" class=\"data row6 col0\" >ооп</td>\n",
       "      <td id=\"T_d5592_row6_col1\" class=\"data row6 col1\" >38</td>\n",
       "    </tr>\n",
       "    <tr>\n",
       "      <th id=\"T_d5592_level0_row7\" class=\"row_heading level0 row7\" >7</th>\n",
       "      <td id=\"T_d5592_row7_col0\" class=\"data row7 col0\" >rxjava</td>\n",
       "      <td id=\"T_d5592_row7_col1\" class=\"data row7 col1\" >28</td>\n",
       "    </tr>\n",
       "    <tr>\n",
       "      <th id=\"T_d5592_level0_row8\" class=\"row_heading level0 row8\" >8</th>\n",
       "      <td id=\"T_d5592_row8_col0\" class=\"data row8 col0\" >coroutines</td>\n",
       "      <td id=\"T_d5592_row8_col1\" class=\"data row8 col1\" >26</td>\n",
       "    </tr>\n",
       "    <tr>\n",
       "      <th id=\"T_d5592_level0_row9\" class=\"row_heading level0 row9\" >9</th>\n",
       "      <td id=\"T_d5592_row9_col0\" class=\"data row9 col0\" >retrofit</td>\n",
       "      <td id=\"T_d5592_row9_col1\" class=\"data row9 col1\" >26</td>\n",
       "    </tr>\n",
       "    <tr>\n",
       "      <th id=\"T_d5592_level0_row10\" class=\"row_heading level0 row10\" >10</th>\n",
       "      <td id=\"T_d5592_row10_col0\" class=\"data row10 col0\" >dagger 2</td>\n",
       "      <td id=\"T_d5592_row10_col1\" class=\"data row10 col1\" >24</td>\n",
       "    </tr>\n",
       "    <tr>\n",
       "      <th id=\"T_d5592_level0_row11\" class=\"row_heading level0 row11\" >11</th>\n",
       "      <td id=\"T_d5592_row11_col0\" class=\"data row11 col0\" >ios</td>\n",
       "      <td id=\"T_d5592_row11_col1\" class=\"data row11 col1\" >21</td>\n",
       "    </tr>\n",
       "    <tr>\n",
       "      <th id=\"T_d5592_level0_row12\" class=\"row_heading level0 row12\" >12</th>\n",
       "      <td id=\"T_d5592_row12_col0\" class=\"data row12 col0\" >mvp</td>\n",
       "      <td id=\"T_d5592_row12_col1\" class=\"data row12 col1\" >18</td>\n",
       "    </tr>\n",
       "    <tr>\n",
       "      <th id=\"T_d5592_level0_row13\" class=\"row_heading level0 row13\" >13</th>\n",
       "      <td id=\"T_d5592_row13_col0\" class=\"data row13 col0\" >sql</td>\n",
       "      <td id=\"T_d5592_row13_col1\" class=\"data row13 col1\" >17</td>\n",
       "    </tr>\n",
       "    <tr>\n",
       "      <th id=\"T_d5592_level0_row14\" class=\"row_heading level0 row14\" >14</th>\n",
       "      <td id=\"T_d5592_row14_col0\" class=\"data row14 col0\" >английский язык</td>\n",
       "      <td id=\"T_d5592_row14_col1\" class=\"data row14 col1\" >17</td>\n",
       "    </tr>\n",
       "    <tr>\n",
       "      <th id=\"T_d5592_level0_row15\" class=\"row_heading level0 row15\" >15</th>\n",
       "      <td id=\"T_d5592_row15_col0\" class=\"data row15 col0\" >rest</td>\n",
       "      <td id=\"T_d5592_row15_col1\" class=\"data row15 col1\" >16</td>\n",
       "    </tr>\n",
       "    <tr>\n",
       "      <th id=\"T_d5592_level0_row16\" class=\"row_heading level0 row16\" >16</th>\n",
       "      <td id=\"T_d5592_row16_col0\" class=\"data row16 col0\" >gradle</td>\n",
       "      <td id=\"T_d5592_row16_col1\" class=\"data row16 col1\" >16</td>\n",
       "    </tr>\n",
       "    <tr>\n",
       "      <th id=\"T_d5592_level0_row17\" class=\"row_heading level0 row17\" >17</th>\n",
       "      <td id=\"T_d5592_row17_col0\" class=\"data row17 col0\" >jetpack compose</td>\n",
       "      <td id=\"T_d5592_row17_col1\" class=\"data row17 col1\" >15</td>\n",
       "    </tr>\n",
       "    <tr>\n",
       "      <th id=\"T_d5592_level0_row18\" class=\"row_heading level0 row18\" >18</th>\n",
       "      <td id=\"T_d5592_row18_col0\" class=\"data row18 col0\" >c++</td>\n",
       "      <td id=\"T_d5592_row18_col1\" class=\"data row18 col1\" >15</td>\n",
       "    </tr>\n",
       "    <tr>\n",
       "      <th id=\"T_d5592_level0_row19\" class=\"row_heading level0 row19\" >19</th>\n",
       "      <td id=\"T_d5592_row19_col0\" class=\"data row19 col0\" >dagger</td>\n",
       "      <td id=\"T_d5592_row19_col1\" class=\"data row19 col1\" >14</td>\n",
       "    </tr>\n",
       "  </tbody>\n",
       "</table>\n",
       "          <style type=\"text/css\">\n",
       "#T_79419_row0_col0, #T_79419_row0_col1, #T_79419_row1_col0, #T_79419_row1_col1, #T_79419_row2_col0, #T_79419_row2_col1, #T_79419_row3_col0, #T_79419_row3_col1, #T_79419_row4_col0, #T_79419_row4_col1, #T_79419_row5_col0, #T_79419_row5_col1, #T_79419_row6_col0, #T_79419_row6_col1, #T_79419_row7_col0, #T_79419_row7_col1, #T_79419_row8_col0, #T_79419_row8_col1, #T_79419_row9_col0, #T_79419_row9_col1, #T_79419_row10_col0, #T_79419_row10_col1, #T_79419_row11_col0, #T_79419_row11_col1, #T_79419_row12_col0, #T_79419_row12_col1, #T_79419_row13_col0, #T_79419_row13_col1, #T_79419_row14_col0, #T_79419_row14_col1, #T_79419_row15_col0, #T_79419_row15_col1, #T_79419_row16_col0, #T_79419_row16_col1, #T_79419_row17_col0, #T_79419_row17_col1, #T_79419_row18_col0, #T_79419_row18_col1, #T_79419_row19_col0, #T_79419_row19_col1 {\n",
       "  text-align: left;\n",
       "}\n",
       "</style>\n",
       "<table id=\"T_79419\" style='display:inline'>\n",
       "  <caption>Top EN description words:</caption>\n",
       "  <thead>\n",
       "    <tr>\n",
       "      <th class=\"blank level0\" >&nbsp;</th>\n",
       "      <th id=\"T_79419_level0_col0\" class=\"col_heading level0 col0\" >words</th>\n",
       "      <th id=\"T_79419_level0_col1\" class=\"col_heading level0 col1\" >count</th>\n",
       "    </tr>\n",
       "  </thead>\n",
       "  <tbody>\n",
       "    <tr>\n",
       "      <th id=\"T_79419_level0_row0\" class=\"row_heading level0 row0\" >0</th>\n",
       "      <td id=\"T_79419_row0_col0\" class=\"data row0 col0\" >android</td>\n",
       "      <td id=\"T_79419_row0_col1\" class=\"data row0 col1\" >1342</td>\n",
       "    </tr>\n",
       "    <tr>\n",
       "      <th id=\"T_79419_level0_row1\" class=\"row_heading level0 row1\" >1</th>\n",
       "      <td id=\"T_79419_row1_col0\" class=\"data row1 col0\" >kotlin</td>\n",
       "      <td id=\"T_79419_row1_col1\" class=\"data row1 col1\" >700</td>\n",
       "    </tr>\n",
       "    <tr>\n",
       "      <th id=\"T_79419_level0_row2\" class=\"row_heading level0 row2\" >2</th>\n",
       "      <td id=\"T_79419_row2_col0\" class=\"data row2 col0\" >java</td>\n",
       "      <td id=\"T_79419_row2_col1\" class=\"data row2 col1\" >304</td>\n",
       "    </tr>\n",
       "    <tr>\n",
       "      <th id=\"T_79419_level0_row3\" class=\"row_heading level0 row3\" >3</th>\n",
       "      <td id=\"T_79419_row3_col0\" class=\"data row3 col0\" >sdk</td>\n",
       "      <td id=\"T_79419_row3_col1\" class=\"data row3 col1\" >255</td>\n",
       "    </tr>\n",
       "    <tr>\n",
       "      <th id=\"T_79419_level0_row4\" class=\"row_heading level0 row4\" >4</th>\n",
       "      <td id=\"T_79419_row4_col0\" class=\"data row4 col0\" >mvvm</td>\n",
       "      <td id=\"T_79419_row4_col1\" class=\"data row4 col1\" >247</td>\n",
       "    </tr>\n",
       "    <tr>\n",
       "      <th id=\"T_79419_level0_row5\" class=\"row_heading level0 row5\" >5</th>\n",
       "      <td id=\"T_79419_row5_col0\" class=\"data row5 col0\" >git</td>\n",
       "      <td id=\"T_79419_row5_col1\" class=\"data row5 col1\" >246</td>\n",
       "    </tr>\n",
       "    <tr>\n",
       "      <th id=\"T_79419_level0_row6\" class=\"row_heading level0 row6\" >6</th>\n",
       "      <td id=\"T_79419_row6_col0\" class=\"data row6 col0\" >coroutines</td>\n",
       "      <td id=\"T_79419_row6_col1\" class=\"data row6 col1\" >194</td>\n",
       "    </tr>\n",
       "    <tr>\n",
       "      <th id=\"T_79419_level0_row7\" class=\"row_heading level0 row7\" >7</th>\n",
       "      <td id=\"T_79419_row7_col0\" class=\"data row7 col0\" >dagger</td>\n",
       "      <td id=\"T_79419_row7_col1\" class=\"data row7 col1\" >180</td>\n",
       "    </tr>\n",
       "    <tr>\n",
       "      <th id=\"T_79419_level0_row8\" class=\"row_heading level0 row8\" >8</th>\n",
       "      <td id=\"T_79419_row8_col0\" class=\"data row8 col0\" >compose</td>\n",
       "      <td id=\"T_79419_row8_col1\" class=\"data row8 col1\" >166</td>\n",
       "    </tr>\n",
       "    <tr>\n",
       "      <th id=\"T_79419_level0_row9\" class=\"row_heading level0 row9\" >9</th>\n",
       "      <td id=\"T_79419_row9_col0\" class=\"data row9 col0\" >api</td>\n",
       "      <td id=\"T_79419_row9_col1\" class=\"data row9 col1\" >165</td>\n",
       "    </tr>\n",
       "    <tr>\n",
       "      <th id=\"T_79419_level0_row10\" class=\"row_heading level0 row10\" >10</th>\n",
       "      <td id=\"T_79419_row10_col0\" class=\"data row10 col0\" >architecture</td>\n",
       "      <td id=\"T_79419_row10_col1\" class=\"data row10 col1\" >163</td>\n",
       "    </tr>\n",
       "    <tr>\n",
       "      <th id=\"T_79419_level0_row11\" class=\"row_heading level0 row11\" >11</th>\n",
       "      <td id=\"T_79419_row11_col0\" class=\"data row11 col0\" >rxjava</td>\n",
       "      <td id=\"T_79419_row11_col1\" class=\"data row11 col1\" >153</td>\n",
       "    </tr>\n",
       "    <tr>\n",
       "      <th id=\"T_79419_level0_row12\" class=\"row_heading level0 row12\" >12</th>\n",
       "      <td id=\"T_79419_row12_col0\" class=\"data row12 col0\" >mvi</td>\n",
       "      <td id=\"T_79419_row12_col1\" class=\"data row12 col1\" >150</td>\n",
       "    </tr>\n",
       "    <tr>\n",
       "      <th id=\"T_79419_level0_row13\" class=\"row_heading level0 row13\" >13</th>\n",
       "      <td id=\"T_79419_row13_col0\" class=\"data row13 col0\" >jetpack</td>\n",
       "      <td id=\"T_79419_row13_col1\" class=\"data row13 col1\" >144</td>\n",
       "    </tr>\n",
       "    <tr>\n",
       "      <th id=\"T_79419_level0_row14\" class=\"row_heading level0 row14\" >14</th>\n",
       "      <td id=\"T_79419_row14_col0\" class=\"data row14 col0\" >gradle</td>\n",
       "      <td id=\"T_79419_row14_col1\" class=\"data row14 col1\" >140</td>\n",
       "    </tr>\n",
       "    <tr>\n",
       "      <th id=\"T_79419_level0_row15\" class=\"row_heading level0 row15\" >15</th>\n",
       "      <td id=\"T_79419_row15_col0\" class=\"data row15 col0\" >retrofit</td>\n",
       "      <td id=\"T_79419_row15_col1\" class=\"data row15 col1\" >139</td>\n",
       "    </tr>\n",
       "    <tr>\n",
       "      <th id=\"T_79419_level0_row16\" class=\"row_heading level0 row16\" >16</th>\n",
       "      <td id=\"T_79419_row16_col0\" class=\"data row16 col0\" >code</td>\n",
       "      <td id=\"T_79419_row16_col1\" class=\"data row16 col1\" >130</td>\n",
       "    </tr>\n",
       "    <tr>\n",
       "      <th id=\"T_79419_level0_row17\" class=\"row_heading level0 row17\" >17</th>\n",
       "      <td id=\"T_79419_row17_col0\" class=\"data row17 col0\" >clean</td>\n",
       "      <td id=\"T_79419_row17_col1\" class=\"data row17 col1\" >125</td>\n",
       "    </tr>\n",
       "    <tr>\n",
       "      <th id=\"T_79419_level0_row18\" class=\"row_heading level0 row18\" >18</th>\n",
       "      <td id=\"T_79419_row18_col0\" class=\"data row18 col0\" >ios</td>\n",
       "      <td id=\"T_79419_row18_col1\" class=\"data row18 col1\" >123</td>\n",
       "    </tr>\n",
       "    <tr>\n",
       "      <th id=\"T_79419_level0_row19\" class=\"row_heading level0 row19\" >19</th>\n",
       "      <td id=\"T_79419_row19_col0\" class=\"data row19 col0\" >solid</td>\n",
       "      <td id=\"T_79419_row19_col1\" class=\"data row19 col1\" >121</td>\n",
       "    </tr>\n",
       "  </tbody>\n",
       "</table>\n",
       "          <style type=\"text/css\">\n",
       "#T_6c03b_row0_col0, #T_6c03b_row0_col1, #T_6c03b_row1_col0, #T_6c03b_row1_col1, #T_6c03b_row2_col0, #T_6c03b_row2_col1, #T_6c03b_row3_col0, #T_6c03b_row3_col1, #T_6c03b_row4_col0, #T_6c03b_row4_col1, #T_6c03b_row5_col0, #T_6c03b_row5_col1, #T_6c03b_row6_col0, #T_6c03b_row6_col1, #T_6c03b_row7_col0, #T_6c03b_row7_col1, #T_6c03b_row8_col0, #T_6c03b_row8_col1, #T_6c03b_row9_col0, #T_6c03b_row9_col1, #T_6c03b_row10_col0, #T_6c03b_row10_col1, #T_6c03b_row11_col0, #T_6c03b_row11_col1, #T_6c03b_row12_col0, #T_6c03b_row12_col1, #T_6c03b_row13_col0, #T_6c03b_row13_col1, #T_6c03b_row14_col0, #T_6c03b_row14_col1, #T_6c03b_row15_col0, #T_6c03b_row15_col1, #T_6c03b_row16_col0, #T_6c03b_row16_col1, #T_6c03b_row17_col0, #T_6c03b_row17_col1, #T_6c03b_row18_col0, #T_6c03b_row18_col1, #T_6c03b_row19_col0, #T_6c03b_row19_col1 {\n",
       "  text-align: left;\n",
       "}\n",
       "</style>\n",
       "<table id=\"T_6c03b\" style='display:inline'>\n",
       "  <caption>Top RU description words:</caption>\n",
       "  <thead>\n",
       "    <tr>\n",
       "      <th class=\"blank level0\" >&nbsp;</th>\n",
       "      <th id=\"T_6c03b_level0_col0\" class=\"col_heading level0 col0\" >words</th>\n",
       "      <th id=\"T_6c03b_level0_col1\" class=\"col_heading level0 col1\" >count</th>\n",
       "    </tr>\n",
       "  </thead>\n",
       "  <tbody>\n",
       "    <tr>\n",
       "      <th id=\"T_6c03b_level0_row0\" class=\"row_heading level0 row0\" >0</th>\n",
       "      <td id=\"T_6c03b_row0_col0\" class=\"data row0 col0\" >опыт</td>\n",
       "      <td id=\"T_6c03b_row0_col1\" class=\"data row0 col1\" >1702</td>\n",
       "    </tr>\n",
       "    <tr>\n",
       "      <th id=\"T_6c03b_level0_row1\" class=\"row_heading level0 row1\" >1</th>\n",
       "      <td id=\"T_6c03b_row1_col0\" class=\"data row1 col0\" >работы</td>\n",
       "      <td id=\"T_6c03b_row1_col1\" class=\"data row1 col1\" >1333</td>\n",
       "    </tr>\n",
       "    <tr>\n",
       "      <th id=\"T_6c03b_level0_row2\" class=\"row_heading level0 row2\" >2</th>\n",
       "      <td id=\"T_6c03b_row2_col0\" class=\"data row2 col0\" >разработки</td>\n",
       "      <td id=\"T_6c03b_row2_col1\" class=\"data row2 col1\" >815</td>\n",
       "    </tr>\n",
       "    <tr>\n",
       "      <th id=\"T_6c03b_level0_row3\" class=\"row_heading level0 row3\" >3</th>\n",
       "      <td id=\"T_6c03b_row3_col0\" class=\"data row3 col0\" >приложений</td>\n",
       "      <td id=\"T_6c03b_row3_col1\" class=\"data row3 col1\" >698</td>\n",
       "    </tr>\n",
       "    <tr>\n",
       "      <th id=\"T_6c03b_level0_row4\" class=\"row_heading level0 row4\" >4</th>\n",
       "      <td id=\"T_6c03b_row4_col0\" class=\"data row4 col0\" >знание</td>\n",
       "      <td id=\"T_6c03b_row4_col1\" class=\"data row4 col1\" >653</td>\n",
       "    </tr>\n",
       "    <tr>\n",
       "      <th id=\"T_6c03b_level0_row5\" class=\"row_heading level0 row5\" >5</th>\n",
       "      <td id=\"T_6c03b_row5_col0\" class=\"data row5 col0\" >приложения</td>\n",
       "      <td id=\"T_6c03b_row5_col1\" class=\"data row5 col1\" >542</td>\n",
       "    </tr>\n",
       "    <tr>\n",
       "      <th id=\"T_6c03b_level0_row6\" class=\"row_heading level0 row6\" >6</th>\n",
       "      <td id=\"T_6c03b_row6_col0\" class=\"data row6 col0\" >понимание</td>\n",
       "      <td id=\"T_6c03b_row6_col1\" class=\"data row6 col1\" >508</td>\n",
       "    </tr>\n",
       "    <tr>\n",
       "      <th id=\"T_6c03b_level0_row7\" class=\"row_heading level0 row7\" >7</th>\n",
       "      <td id=\"T_6c03b_row7_col0\" class=\"data row7 col0\" >будет</td>\n",
       "      <td id=\"T_6c03b_row7_col1\" class=\"data row7 col1\" >407</td>\n",
       "    </tr>\n",
       "    <tr>\n",
       "      <th id=\"T_6c03b_level0_row8\" class=\"row_heading level0 row8\" >8</th>\n",
       "      <td id=\"T_6c03b_row8_col0\" class=\"data row8 col0\" >возможность</td>\n",
       "      <td id=\"T_6c03b_row8_col1\" class=\"data row8 col1\" >391</td>\n",
       "    </tr>\n",
       "    <tr>\n",
       "      <th id=\"T_6c03b_level0_row9\" class=\"row_heading level0 row9\" >9</th>\n",
       "      <td id=\"T_6c03b_row9_col0\" class=\"data row9 col0\" >работать</td>\n",
       "      <td id=\"T_6c03b_row9_col1\" class=\"data row9 col1\" >391</td>\n",
       "    </tr>\n",
       "    <tr>\n",
       "      <th id=\"T_6c03b_level0_row10\" class=\"row_heading level0 row10\" >10</th>\n",
       "      <td id=\"T_6c03b_row10_col0\" class=\"data row10 col0\" >компании</td>\n",
       "      <td id=\"T_6c03b_row10_col1\" class=\"data row10 col1\" >386</td>\n",
       "    </tr>\n",
       "    <tr>\n",
       "      <th id=\"T_6c03b_level0_row11\" class=\"row_heading level0 row11\" >11</th>\n",
       "      <td id=\"T_6c03b_row11_col0\" class=\"data row11 col0\" >умение</td>\n",
       "      <td id=\"T_6c03b_row11_col1\" class=\"data row11 col1\" >330</td>\n",
       "    </tr>\n",
       "    <tr>\n",
       "      <th id=\"T_6c03b_level0_row12\" class=\"row_heading level0 row12\" >12</th>\n",
       "      <td id=\"T_6c03b_row12_col0\" class=\"data row12 col0\" >разработка</td>\n",
       "      <td id=\"T_6c03b_row12_col1\" class=\"data row12 col1\" >305</td>\n",
       "    </tr>\n",
       "    <tr>\n",
       "      <th id=\"T_6c03b_level0_row13\" class=\"row_heading level0 row13\" >13</th>\n",
       "      <td id=\"T_6c03b_row13_col0\" class=\"data row13 col0\" >работа</td>\n",
       "      <td id=\"T_6c03b_row13_col1\" class=\"data row13 col1\" >291</td>\n",
       "    </tr>\n",
       "    <tr>\n",
       "      <th id=\"T_6c03b_level0_row14\" class=\"row_heading level0 row14\" >14</th>\n",
       "      <td id=\"T_6c03b_row14_col0\" class=\"data row14 col0\" >команде</td>\n",
       "      <td id=\"T_6c03b_row14_col1\" class=\"data row14 col1\" >289</td>\n",
       "    </tr>\n",
       "    <tr>\n",
       "      <th id=\"T_6c03b_level0_row15\" class=\"row_heading level0 row15\" >15</th>\n",
       "      <td id=\"T_6c03b_row15_col0\" class=\"data row15 col0\" >мобильных</td>\n",
       "      <td id=\"T_6c03b_row15_col1\" class=\"data row15 col1\" >288</td>\n",
       "    </tr>\n",
       "    <tr>\n",
       "      <th id=\"T_6c03b_level0_row16\" class=\"row_heading level0 row16\" >16</th>\n",
       "      <td id=\"T_6c03b_row16_col0\" class=\"data row16 col0\" >задачи</td>\n",
       "      <td id=\"T_6c03b_row16_col1\" class=\"data row16 col1\" >262</td>\n",
       "    </tr>\n",
       "    <tr>\n",
       "      <th id=\"T_6c03b_level0_row17\" class=\"row_heading level0 row17\" >17</th>\n",
       "      <td id=\"T_6c03b_row17_col0\" class=\"data row17 col0\" >плюсом</td>\n",
       "      <td id=\"T_6c03b_row17_col1\" class=\"data row17 col1\" >251</td>\n",
       "    </tr>\n",
       "    <tr>\n",
       "      <th id=\"T_6c03b_level0_row18\" class=\"row_heading level0 row18\" >18</th>\n",
       "      <td id=\"T_6c03b_row18_col0\" class=\"data row18 col0\" >участие</td>\n",
       "      <td id=\"T_6c03b_row18_col1\" class=\"data row18 col1\" >233</td>\n",
       "    </tr>\n",
       "    <tr>\n",
       "      <th id=\"T_6c03b_level0_row19\" class=\"row_heading level0 row19\" >19</th>\n",
       "      <td id=\"T_6c03b_row19_col0\" class=\"data row19 col0\" >команды</td>\n",
       "      <td id=\"T_6c03b_row19_col1\" class=\"data row19 col1\" >231</td>\n",
       "    </tr>\n",
       "  </tbody>\n",
       "</table>\n",
       "          "
      ],
      "text/plain": [
       "<IPython.core.display.HTML object>"
      ]
     },
     "metadata": {},
     "output_type": "display_data"
    }
   ],
   "source": [
    "count = 20\n",
    "\n",
    "sk = top_ds_skills.head(count)\n",
    "en = top_ds_en_words.head(count)\n",
    "ru = top_ds_ru_words.head(count)\n",
    "\n",
    "display_side_by_side([pd.DataFrame({'skills':sk.index, 'count':sk.values}),\n",
    "                      pd.DataFrame({'words':en.index, 'count':en.values}),\n",
    "                      pd.DataFrame({'words':ru.index,'count':ru.values})],\n",
    "                     ['Top skills:', 'Top EN description words:', 'Top RU description words:'], 10) "
   ]
  },
  {
   "cell_type": "markdown",
   "id": "dda0ad00",
   "metadata": {
    "papermill": {
     "duration": 0.017997,
     "end_time": "2022-11-22T10:51:04.865786",
     "exception": false,
     "start_time": "2022-11-22T10:51:04.847789",
     "status": "completed"
    },
    "tags": []
   },
   "source": []
  },
  {
   "cell_type": "markdown",
   "id": "c8d82645",
   "metadata": {
    "papermill": {
     "duration": 0.018351,
     "end_time": "2022-11-22T10:51:04.902369",
     "exception": false,
     "start_time": "2022-11-22T10:51:04.884018",
     "status": "completed"
    },
    "tags": []
   },
   "source": [
    "<a id=\"data_skills_to_lvl\"></a>\n",
    "### Сравнение ключевых навыков между уровнями вакансий\n",
    "Сравниваем ключевые навыки и самые часто повторяющиеся англ слова в вакансиях в зависимости от уровня работника\n",
    "- junior - \"Нет опыта\"\n",
    "- middle - \"От 1 года до 3 лет\"\n",
    "- senior - \"От 3 до 6 лет\"\n",
    "- lead - \"Более 6 лет\"\n",
    "\n",
    "**Очень долго обрабатывает, лучше запустить 1 раз**"
   ]
  },
  {
   "cell_type": "code",
   "execution_count": 22,
   "id": "82ce0149",
   "metadata": {
    "execution": {
     "iopub.execute_input": "2022-11-22T10:51:04.941371Z",
     "iopub.status.busy": "2022-11-22T10:51:04.940888Z",
     "iopub.status.idle": "2022-11-22T10:53:00.998622Z",
     "shell.execute_reply": "2022-11-22T10:53:00.996995Z"
    },
    "papermill": {
     "duration": 116.080122,
     "end_time": "2022-11-22T10:53:01.001068",
     "exception": false,
     "start_time": "2022-11-22T10:51:04.920946",
     "status": "completed"
    },
    "tags": []
   },
   "outputs": [],
   "source": [
    "df_jun = df.query('experience == \"Нет опыта\"')\n",
    "df_mid = df.query('experience == \"От 1 года до 3 лет\"')\n",
    "df_sen = df.query('experience == \"От 3 до 6 лет\"')\n",
    "df_lead = df.query('experience == \"Более 6 лет\"')\n",
    "\n",
    "count = 10\n",
    "\n",
    "jun_skills = top_skills(df_jun).head(count)\n",
    "mid_skills = top_skills(df_mid).head(count)\n",
    "sen_skills = top_skills(df_sen).head(count)\n",
    "lead_skills = top_skills(df_lead).head(count)\n",
    "\n",
    "jun_en_words = top_description_words(df_jun).head(count)\n",
    "mid_en_words = top_description_words(df_mid).head(count)\n",
    "sen_en_words = top_description_words(df_sen).head(count)\n",
    "lead_en_words = top_description_words(df_lead).head(count)\n",
    "\n",
    "jun_ru_words = top_description_words(df_jun,'ru',3).head(count)\n",
    "mid_ru_words = top_description_words(df_mid,'ru',3).head(count)\n",
    "sen_ru_words = top_description_words(df_sen,'ru',3).head(count)\n",
    "lead_ru_words = top_description_words(df_lead,'ru',3).head(count)"
   ]
  },
  {
   "cell_type": "code",
   "execution_count": 23,
   "id": "22acfaae",
   "metadata": {
    "execution": {
     "iopub.execute_input": "2022-11-22T10:53:01.041221Z",
     "iopub.status.busy": "2022-11-22T10:53:01.039864Z",
     "iopub.status.idle": "2022-11-22T10:53:01.108636Z",
     "shell.execute_reply": "2022-11-22T10:53:01.107649Z"
    },
    "papermill": {
     "duration": 0.090517,
     "end_time": "2022-11-22T10:53:01.110442",
     "exception": false,
     "start_time": "2022-11-22T10:53:01.019925",
     "status": "completed"
    },
    "tags": []
   },
   "outputs": [
    {
     "data": {
      "text/html": [
       "<style type=\"text/css\">\n",
       "#T_a5231_row0_col0, #T_a5231_row0_col1, #T_a5231_row1_col0, #T_a5231_row1_col1, #T_a5231_row2_col0, #T_a5231_row2_col1, #T_a5231_row3_col0, #T_a5231_row3_col1, #T_a5231_row4_col0, #T_a5231_row4_col1, #T_a5231_row5_col0, #T_a5231_row5_col1, #T_a5231_row6_col0, #T_a5231_row6_col1, #T_a5231_row7_col0, #T_a5231_row7_col1, #T_a5231_row8_col0, #T_a5231_row8_col1, #T_a5231_row9_col0, #T_a5231_row9_col1 {\n",
       "  text-align: left;\n",
       "}\n",
       "</style>\n",
       "<table id=\"T_a5231\" style='display:inline'>\n",
       "  <caption>Top skills for junior</caption>\n",
       "  <thead>\n",
       "    <tr>\n",
       "      <th class=\"blank level0\" >&nbsp;</th>\n",
       "      <th id=\"T_a5231_level0_col0\" class=\"col_heading level0 col0\" >skills</th>\n",
       "      <th id=\"T_a5231_level0_col1\" class=\"col_heading level0 col1\" >count</th>\n",
       "    </tr>\n",
       "  </thead>\n",
       "  <tbody>\n",
       "    <tr>\n",
       "      <th id=\"T_a5231_level0_row0\" class=\"row_heading level0 row0\" >0</th>\n",
       "      <td id=\"T_a5231_row0_col0\" class=\"data row0 col0\" >android</td>\n",
       "      <td id=\"T_a5231_row0_col1\" class=\"data row0 col1\" >10</td>\n",
       "    </tr>\n",
       "    <tr>\n",
       "      <th id=\"T_a5231_level0_row1\" class=\"row_heading level0 row1\" >1</th>\n",
       "      <td id=\"T_a5231_row1_col0\" class=\"data row1 col0\" >kotlin</td>\n",
       "      <td id=\"T_a5231_row1_col1\" class=\"data row1 col1\" >8</td>\n",
       "    </tr>\n",
       "    <tr>\n",
       "      <th id=\"T_a5231_level0_row2\" class=\"row_heading level0 row2\" >2</th>\n",
       "      <td id=\"T_a5231_row2_col0\" class=\"data row2 col0\" >ооп</td>\n",
       "      <td id=\"T_a5231_row2_col1\" class=\"data row2 col1\" >3</td>\n",
       "    </tr>\n",
       "    <tr>\n",
       "      <th id=\"T_a5231_level0_row3\" class=\"row_heading level0 row3\" >3</th>\n",
       "      <td id=\"T_a5231_row3_col0\" class=\"data row3 col0\" >git</td>\n",
       "      <td id=\"T_a5231_row3_col1\" class=\"data row3 col1\" >2</td>\n",
       "    </tr>\n",
       "    <tr>\n",
       "      <th id=\"T_a5231_level0_row4\" class=\"row_heading level0 row4\" >4</th>\n",
       "      <td id=\"T_a5231_row4_col0\" class=\"data row4 col0\" >java</td>\n",
       "      <td id=\"T_a5231_row4_col1\" class=\"data row4 col1\" >2</td>\n",
       "    </tr>\n",
       "    <tr>\n",
       "      <th id=\"T_a5231_level0_row5\" class=\"row_heading level0 row5\" >5</th>\n",
       "      <td id=\"T_a5231_row5_col0\" class=\"data row5 col0\" >android sdk</td>\n",
       "      <td id=\"T_a5231_row5_col1\" class=\"data row5 col1\" >2</td>\n",
       "    </tr>\n",
       "    <tr>\n",
       "      <th id=\"T_a5231_level0_row6\" class=\"row_heading level0 row6\" >6</th>\n",
       "      <td id=\"T_a5231_row6_col0\" class=\"data row6 col0\" >rx</td>\n",
       "      <td id=\"T_a5231_row6_col1\" class=\"data row6 col1\" >2</td>\n",
       "    </tr>\n",
       "    <tr>\n",
       "      <th id=\"T_a5231_level0_row7\" class=\"row_heading level0 row7\" >7</th>\n",
       "      <td id=\"T_a5231_row7_col0\" class=\"data row7 col0\" >разработка по</td>\n",
       "      <td id=\"T_a5231_row7_col1\" class=\"data row7 col1\" >1</td>\n",
       "    </tr>\n",
       "    <tr>\n",
       "      <th id=\"T_a5231_level0_row8\" class=\"row_heading level0 row8\" >8</th>\n",
       "      <td id=\"T_a5231_row8_col0\" class=\"data row8 col0\" >firebase</td>\n",
       "      <td id=\"T_a5231_row8_col1\" class=\"data row8 col1\" >1</td>\n",
       "    </tr>\n",
       "    <tr>\n",
       "      <th id=\"T_a5231_level0_row9\" class=\"row_heading level0 row9\" >9</th>\n",
       "      <td id=\"T_a5231_row9_col0\" class=\"data row9 col0\" >оптимизация кода</td>\n",
       "      <td id=\"T_a5231_row9_col1\" class=\"data row9 col1\" >1</td>\n",
       "    </tr>\n",
       "  </tbody>\n",
       "</table>\n",
       "          <style type=\"text/css\">\n",
       "#T_5f57c_row0_col0, #T_5f57c_row0_col1, #T_5f57c_row1_col0, #T_5f57c_row1_col1, #T_5f57c_row2_col0, #T_5f57c_row2_col1, #T_5f57c_row3_col0, #T_5f57c_row3_col1, #T_5f57c_row4_col0, #T_5f57c_row4_col1, #T_5f57c_row5_col0, #T_5f57c_row5_col1, #T_5f57c_row6_col0, #T_5f57c_row6_col1, #T_5f57c_row7_col0, #T_5f57c_row7_col1, #T_5f57c_row8_col0, #T_5f57c_row8_col1, #T_5f57c_row9_col0, #T_5f57c_row9_col1 {\n",
       "  text-align: left;\n",
       "}\n",
       "</style>\n",
       "<table id=\"T_5f57c\" style='display:inline'>\n",
       "  <caption>Top en words for junior</caption>\n",
       "  <thead>\n",
       "    <tr>\n",
       "      <th class=\"blank level0\" >&nbsp;</th>\n",
       "      <th id=\"T_5f57c_level0_col0\" class=\"col_heading level0 col0\" >words</th>\n",
       "      <th id=\"T_5f57c_level0_col1\" class=\"col_heading level0 col1\" >count</th>\n",
       "    </tr>\n",
       "  </thead>\n",
       "  <tbody>\n",
       "    <tr>\n",
       "      <th id=\"T_5f57c_level0_row0\" class=\"row_heading level0 row0\" >0</th>\n",
       "      <td id=\"T_5f57c_row0_col0\" class=\"data row0 col0\" >android</td>\n",
       "      <td id=\"T_5f57c_row0_col1\" class=\"data row0 col1\" >37</td>\n",
       "    </tr>\n",
       "    <tr>\n",
       "      <th id=\"T_5f57c_level0_row1\" class=\"row_heading level0 row1\" >1</th>\n",
       "      <td id=\"T_5f57c_row1_col0\" class=\"data row1 col0\" >kotlin</td>\n",
       "      <td id=\"T_5f57c_row1_col1\" class=\"data row1 col1\" >24</td>\n",
       "    </tr>\n",
       "    <tr>\n",
       "      <th id=\"T_5f57c_level0_row2\" class=\"row_heading level0 row2\" >2</th>\n",
       "      <td id=\"T_5f57c_row2_col0\" class=\"data row2 col0\" >api</td>\n",
       "      <td id=\"T_5f57c_row2_col1\" class=\"data row2 col1\" >7</td>\n",
       "    </tr>\n",
       "    <tr>\n",
       "      <th id=\"T_5f57c_level0_row3\" class=\"row_heading level0 row3\" >3</th>\n",
       "      <td id=\"T_5f57c_row3_col0\" class=\"data row3 col0\" >java</td>\n",
       "      <td id=\"T_5f57c_row3_col1\" class=\"data row3 col1\" >6</td>\n",
       "    </tr>\n",
       "    <tr>\n",
       "      <th id=\"T_5f57c_level0_row4\" class=\"row_heading level0 row4\" >4</th>\n",
       "      <td id=\"T_5f57c_row4_col0\" class=\"data row4 col0\" >room</td>\n",
       "      <td id=\"T_5f57c_row4_col1\" class=\"data row4 col1\" >6</td>\n",
       "    </tr>\n",
       "    <tr>\n",
       "      <th id=\"T_5f57c_level0_row5\" class=\"row_heading level0 row5\" >5</th>\n",
       "      <td id=\"T_5f57c_row5_col0\" class=\"data row5 col0\" >for</td>\n",
       "      <td id=\"T_5f57c_row5_col1\" class=\"data row5 col1\" >6</td>\n",
       "    </tr>\n",
       "    <tr>\n",
       "      <th id=\"T_5f57c_level0_row6\" class=\"row_heading level0 row6\" >6</th>\n",
       "      <td id=\"T_5f57c_row6_col0\" class=\"data row6 col0\" >ios</td>\n",
       "      <td id=\"T_5f57c_row6_col1\" class=\"data row6 col1\" >5</td>\n",
       "    </tr>\n",
       "    <tr>\n",
       "      <th id=\"T_5f57c_level0_row7\" class=\"row_heading level0 row7\" >7</th>\n",
       "      <td id=\"T_5f57c_row7_col0\" class=\"data row7 col0\" >git</td>\n",
       "      <td id=\"T_5f57c_row7_col1\" class=\"data row7 col1\" >5</td>\n",
       "    </tr>\n",
       "    <tr>\n",
       "      <th id=\"T_5f57c_level0_row8\" class=\"row_heading level0 row8\" >8</th>\n",
       "      <td id=\"T_5f57c_row8_col0\" class=\"data row8 col0\" >etc</td>\n",
       "      <td id=\"T_5f57c_row8_col1\" class=\"data row8 col1\" >5</td>\n",
       "    </tr>\n",
       "    <tr>\n",
       "      <th id=\"T_5f57c_level0_row9\" class=\"row_heading level0 row9\" >9</th>\n",
       "      <td id=\"T_5f57c_row9_col0\" class=\"data row9 col0\" >backend</td>\n",
       "      <td id=\"T_5f57c_row9_col1\" class=\"data row9 col1\" >4</td>\n",
       "    </tr>\n",
       "  </tbody>\n",
       "</table>\n",
       "          <style type=\"text/css\">\n",
       "#T_7ef7a_row0_col0, #T_7ef7a_row0_col1, #T_7ef7a_row1_col0, #T_7ef7a_row1_col1, #T_7ef7a_row2_col0, #T_7ef7a_row2_col1, #T_7ef7a_row3_col0, #T_7ef7a_row3_col1, #T_7ef7a_row4_col0, #T_7ef7a_row4_col1, #T_7ef7a_row5_col0, #T_7ef7a_row5_col1, #T_7ef7a_row6_col0, #T_7ef7a_row6_col1, #T_7ef7a_row7_col0, #T_7ef7a_row7_col1, #T_7ef7a_row8_col0, #T_7ef7a_row8_col1, #T_7ef7a_row9_col0, #T_7ef7a_row9_col1 {\n",
       "  text-align: left;\n",
       "}\n",
       "</style>\n",
       "<table id=\"T_7ef7a\" style='display:inline'>\n",
       "  <caption>Top ru words for junior</caption>\n",
       "  <thead>\n",
       "    <tr>\n",
       "      <th class=\"blank level0\" >&nbsp;</th>\n",
       "      <th id=\"T_7ef7a_level0_col0\" class=\"col_heading level0 col0\" >words</th>\n",
       "      <th id=\"T_7ef7a_level0_col1\" class=\"col_heading level0 col1\" >count</th>\n",
       "    </tr>\n",
       "  </thead>\n",
       "  <tbody>\n",
       "    <tr>\n",
       "      <th id=\"T_7ef7a_level0_row0\" class=\"row_heading level0 row0\" >0</th>\n",
       "      <td id=\"T_7ef7a_row0_col0\" class=\"data row0 col0\" >приложений</td>\n",
       "      <td id=\"T_7ef7a_row0_col1\" class=\"data row0 col1\" >21</td>\n",
       "    </tr>\n",
       "    <tr>\n",
       "      <th id=\"T_7ef7a_level0_row1\" class=\"row_heading level0 row1\" >1</th>\n",
       "      <td id=\"T_7ef7a_row1_col0\" class=\"data row1 col0\" >опыт</td>\n",
       "      <td id=\"T_7ef7a_row1_col1\" class=\"data row1 col1\" >16</td>\n",
       "    </tr>\n",
       "    <tr>\n",
       "      <th id=\"T_7ef7a_level0_row2\" class=\"row_heading level0 row2\" >2</th>\n",
       "      <td id=\"T_7ef7a_row2_col0\" class=\"data row2 col0\" >разработки</td>\n",
       "      <td id=\"T_7ef7a_row2_col1\" class=\"data row2 col1\" >14</td>\n",
       "    </tr>\n",
       "    <tr>\n",
       "      <th id=\"T_7ef7a_level0_row3\" class=\"row_heading level0 row3\" >3</th>\n",
       "      <td id=\"T_7ef7a_row3_col0\" class=\"data row3 col0\" >данных</td>\n",
       "      <td id=\"T_7ef7a_row3_col1\" class=\"data row3 col1\" >13</td>\n",
       "    </tr>\n",
       "    <tr>\n",
       "      <th id=\"T_7ef7a_level0_row4\" class=\"row_heading level0 row4\" >4</th>\n",
       "      <td id=\"T_7ef7a_row4_col0\" class=\"data row4 col0\" >проект</td>\n",
       "      <td id=\"T_7ef7a_row4_col1\" class=\"data row4 col1\" >12</td>\n",
       "    </tr>\n",
       "    <tr>\n",
       "      <th id=\"T_7ef7a_level0_row5\" class=\"row_heading level0 row5\" >5</th>\n",
       "      <td id=\"T_7ef7a_row5_col0\" class=\"data row5 col0\" >разработка</td>\n",
       "      <td id=\"T_7ef7a_row5_col1\" class=\"data row5 col1\" >12</td>\n",
       "    </tr>\n",
       "    <tr>\n",
       "      <th id=\"T_7ef7a_level0_row6\" class=\"row_heading level0 row6\" >6</th>\n",
       "      <td id=\"T_7ef7a_row6_col0\" class=\"data row6 col0\" >приложения</td>\n",
       "      <td id=\"T_7ef7a_row6_col1\" class=\"data row6 col1\" >12</td>\n",
       "    </tr>\n",
       "    <tr>\n",
       "      <th id=\"T_7ef7a_level0_row7\" class=\"row_heading level0 row7\" >7</th>\n",
       "      <td id=\"T_7ef7a_row7_col0\" class=\"data row7 col0\" >работать</td>\n",
       "      <td id=\"T_7ef7a_row7_col1\" class=\"data row7 col1\" >12</td>\n",
       "    </tr>\n",
       "    <tr>\n",
       "      <th id=\"T_7ef7a_level0_row8\" class=\"row_heading level0 row8\" >8</th>\n",
       "      <td id=\"T_7ef7a_row8_col0\" class=\"data row8 col0\" >работа</td>\n",
       "      <td id=\"T_7ef7a_row8_col1\" class=\"data row8 col1\" >12</td>\n",
       "    </tr>\n",
       "    <tr>\n",
       "      <th id=\"T_7ef7a_level0_row9\" class=\"row_heading level0 row9\" >9</th>\n",
       "      <td id=\"T_7ef7a_row9_col0\" class=\"data row9 col0\" >системы</td>\n",
       "      <td id=\"T_7ef7a_row9_col1\" class=\"data row9 col1\" >12</td>\n",
       "    </tr>\n",
       "  </tbody>\n",
       "</table>\n",
       "          "
      ],
      "text/plain": [
       "<IPython.core.display.HTML object>"
      ]
     },
     "metadata": {},
     "output_type": "display_data"
    },
    {
     "data": {
      "text/html": [
       "<style type=\"text/css\">\n",
       "#T_53c57_row0_col0, #T_53c57_row0_col1, #T_53c57_row1_col0, #T_53c57_row1_col1, #T_53c57_row2_col0, #T_53c57_row2_col1, #T_53c57_row3_col0, #T_53c57_row3_col1, #T_53c57_row4_col0, #T_53c57_row4_col1, #T_53c57_row5_col0, #T_53c57_row5_col1, #T_53c57_row6_col0, #T_53c57_row6_col1, #T_53c57_row7_col0, #T_53c57_row7_col1, #T_53c57_row8_col0, #T_53c57_row8_col1, #T_53c57_row9_col0, #T_53c57_row9_col1 {\n",
       "  text-align: left;\n",
       "}\n",
       "</style>\n",
       "<table id=\"T_53c57\" style='display:inline'>\n",
       "  <caption>Top skills for middle</caption>\n",
       "  <thead>\n",
       "    <tr>\n",
       "      <th class=\"blank level0\" >&nbsp;</th>\n",
       "      <th id=\"T_53c57_level0_col0\" class=\"col_heading level0 col0\" >skills</th>\n",
       "      <th id=\"T_53c57_level0_col1\" class=\"col_heading level0 col1\" >count</th>\n",
       "    </tr>\n",
       "  </thead>\n",
       "  <tbody>\n",
       "    <tr>\n",
       "      <th id=\"T_53c57_level0_row0\" class=\"row_heading level0 row0\" >0</th>\n",
       "      <td id=\"T_53c57_row0_col0\" class=\"data row0 col0\" >android</td>\n",
       "      <td id=\"T_53c57_row0_col1\" class=\"data row0 col1\" >82</td>\n",
       "    </tr>\n",
       "    <tr>\n",
       "      <th id=\"T_53c57_level0_row1\" class=\"row_heading level0 row1\" >1</th>\n",
       "      <td id=\"T_53c57_row1_col0\" class=\"data row1 col0\" >kotlin</td>\n",
       "      <td id=\"T_53c57_row1_col1\" class=\"data row1 col1\" >79</td>\n",
       "    </tr>\n",
       "    <tr>\n",
       "      <th id=\"T_53c57_level0_row2\" class=\"row_heading level0 row2\" >2</th>\n",
       "      <td id=\"T_53c57_row2_col0\" class=\"data row2 col0\" >java</td>\n",
       "      <td id=\"T_53c57_row2_col1\" class=\"data row2 col1\" >47</td>\n",
       "    </tr>\n",
       "    <tr>\n",
       "      <th id=\"T_53c57_level0_row3\" class=\"row_heading level0 row3\" >3</th>\n",
       "      <td id=\"T_53c57_row3_col0\" class=\"data row3 col0\" >android sdk</td>\n",
       "      <td id=\"T_53c57_row3_col1\" class=\"data row3 col1\" >47</td>\n",
       "    </tr>\n",
       "    <tr>\n",
       "      <th id=\"T_53c57_level0_row4\" class=\"row_heading level0 row4\" >4</th>\n",
       "      <td id=\"T_53c57_row4_col0\" class=\"data row4 col0\" >git</td>\n",
       "      <td id=\"T_53c57_row4_col1\" class=\"data row4 col1\" >31</td>\n",
       "    </tr>\n",
       "    <tr>\n",
       "      <th id=\"T_53c57_level0_row5\" class=\"row_heading level0 row5\" >5</th>\n",
       "      <td id=\"T_53c57_row5_col0\" class=\"data row5 col0\" >mvvm</td>\n",
       "      <td id=\"T_53c57_row5_col1\" class=\"data row5 col1\" >17</td>\n",
       "    </tr>\n",
       "    <tr>\n",
       "      <th id=\"T_53c57_level0_row6\" class=\"row_heading level0 row6\" >6</th>\n",
       "      <td id=\"T_53c57_row6_col0\" class=\"data row6 col0\" >ооп</td>\n",
       "      <td id=\"T_53c57_row6_col1\" class=\"data row6 col1\" >14</td>\n",
       "    </tr>\n",
       "    <tr>\n",
       "      <th id=\"T_53c57_level0_row7\" class=\"row_heading level0 row7\" >7</th>\n",
       "      <td id=\"T_53c57_row7_col0\" class=\"data row7 col0\" >retrofit</td>\n",
       "      <td id=\"T_53c57_row7_col1\" class=\"data row7 col1\" >11</td>\n",
       "    </tr>\n",
       "    <tr>\n",
       "      <th id=\"T_53c57_level0_row8\" class=\"row_heading level0 row8\" >8</th>\n",
       "      <td id=\"T_53c57_row8_col0\" class=\"data row8 col0\" >mvp</td>\n",
       "      <td id=\"T_53c57_row8_col1\" class=\"data row8 col1\" >8</td>\n",
       "    </tr>\n",
       "    <tr>\n",
       "      <th id=\"T_53c57_level0_row9\" class=\"row_heading level0 row9\" >9</th>\n",
       "      <td id=\"T_53c57_row9_col0\" class=\"data row9 col0\" >английский язык</td>\n",
       "      <td id=\"T_53c57_row9_col1\" class=\"data row9 col1\" >8</td>\n",
       "    </tr>\n",
       "  </tbody>\n",
       "</table>\n",
       "          <style type=\"text/css\">\n",
       "#T_7c3cf_row0_col0, #T_7c3cf_row0_col1, #T_7c3cf_row1_col0, #T_7c3cf_row1_col1, #T_7c3cf_row2_col0, #T_7c3cf_row2_col1, #T_7c3cf_row3_col0, #T_7c3cf_row3_col1, #T_7c3cf_row4_col0, #T_7c3cf_row4_col1, #T_7c3cf_row5_col0, #T_7c3cf_row5_col1, #T_7c3cf_row6_col0, #T_7c3cf_row6_col1, #T_7c3cf_row7_col0, #T_7c3cf_row7_col1, #T_7c3cf_row8_col0, #T_7c3cf_row8_col1, #T_7c3cf_row9_col0, #T_7c3cf_row9_col1 {\n",
       "  text-align: left;\n",
       "}\n",
       "</style>\n",
       "<table id=\"T_7c3cf\" style='display:inline'>\n",
       "  <caption>Top en words for middle</caption>\n",
       "  <thead>\n",
       "    <tr>\n",
       "      <th class=\"blank level0\" >&nbsp;</th>\n",
       "      <th id=\"T_7c3cf_level0_col0\" class=\"col_heading level0 col0\" >words</th>\n",
       "      <th id=\"T_7c3cf_level0_col1\" class=\"col_heading level0 col1\" >count</th>\n",
       "    </tr>\n",
       "  </thead>\n",
       "  <tbody>\n",
       "    <tr>\n",
       "      <th id=\"T_7c3cf_level0_row0\" class=\"row_heading level0 row0\" >0</th>\n",
       "      <td id=\"T_7c3cf_row0_col0\" class=\"data row0 col0\" >android</td>\n",
       "      <td id=\"T_7c3cf_row0_col1\" class=\"data row0 col1\" >406</td>\n",
       "    </tr>\n",
       "    <tr>\n",
       "      <th id=\"T_7c3cf_level0_row1\" class=\"row_heading level0 row1\" >1</th>\n",
       "      <td id=\"T_7c3cf_row1_col0\" class=\"data row1 col0\" >kotlin</td>\n",
       "      <td id=\"T_7c3cf_row1_col1\" class=\"data row1 col1\" >198</td>\n",
       "    </tr>\n",
       "    <tr>\n",
       "      <th id=\"T_7c3cf_level0_row2\" class=\"row_heading level0 row2\" >2</th>\n",
       "      <td id=\"T_7c3cf_row2_col0\" class=\"data row2 col0\" >java</td>\n",
       "      <td id=\"T_7c3cf_row2_col1\" class=\"data row2 col1\" >117</td>\n",
       "    </tr>\n",
       "    <tr>\n",
       "      <th id=\"T_7c3cf_level0_row3\" class=\"row_heading level0 row3\" >3</th>\n",
       "      <td id=\"T_7c3cf_row3_col0\" class=\"data row3 col0\" >sdk</td>\n",
       "      <td id=\"T_7c3cf_row3_col1\" class=\"data row3 col1\" >78</td>\n",
       "    </tr>\n",
       "    <tr>\n",
       "      <th id=\"T_7c3cf_level0_row4\" class=\"row_heading level0 row4\" >4</th>\n",
       "      <td id=\"T_7c3cf_row4_col0\" class=\"data row4 col0\" >mvvm</td>\n",
       "      <td id=\"T_7c3cf_row4_col1\" class=\"data row4 col1\" >64</td>\n",
       "    </tr>\n",
       "    <tr>\n",
       "      <th id=\"T_7c3cf_level0_row5\" class=\"row_heading level0 row5\" >5</th>\n",
       "      <td id=\"T_7c3cf_row5_col0\" class=\"data row5 col0\" >coroutines</td>\n",
       "      <td id=\"T_7c3cf_row5_col1\" class=\"data row5 col1\" >62</td>\n",
       "    </tr>\n",
       "    <tr>\n",
       "      <th id=\"T_7c3cf_level0_row6\" class=\"row_heading level0 row6\" >6</th>\n",
       "      <td id=\"T_7c3cf_row6_col0\" class=\"data row6 col0\" >git</td>\n",
       "      <td id=\"T_7c3cf_row6_col1\" class=\"data row6 col1\" >61</td>\n",
       "    </tr>\n",
       "    <tr>\n",
       "      <th id=\"T_7c3cf_level0_row7\" class=\"row_heading level0 row7\" >7</th>\n",
       "      <td id=\"T_7c3cf_row7_col0\" class=\"data row7 col0\" >api</td>\n",
       "      <td id=\"T_7c3cf_row7_col1\" class=\"data row7 col1\" >52</td>\n",
       "    </tr>\n",
       "    <tr>\n",
       "      <th id=\"T_7c3cf_level0_row8\" class=\"row_heading level0 row8\" >8</th>\n",
       "      <td id=\"T_7c3cf_row8_col0\" class=\"data row8 col0\" >dagger</td>\n",
       "      <td id=\"T_7c3cf_row8_col1\" class=\"data row8 col1\" >48</td>\n",
       "    </tr>\n",
       "    <tr>\n",
       "      <th id=\"T_7c3cf_level0_row9\" class=\"row_heading level0 row9\" >9</th>\n",
       "      <td id=\"T_7c3cf_row9_col0\" class=\"data row9 col0\" >architecture</td>\n",
       "      <td id=\"T_7c3cf_row9_col1\" class=\"data row9 col1\" >44</td>\n",
       "    </tr>\n",
       "  </tbody>\n",
       "</table>\n",
       "          <style type=\"text/css\">\n",
       "#T_710ac_row0_col0, #T_710ac_row0_col1, #T_710ac_row1_col0, #T_710ac_row1_col1, #T_710ac_row2_col0, #T_710ac_row2_col1, #T_710ac_row3_col0, #T_710ac_row3_col1, #T_710ac_row4_col0, #T_710ac_row4_col1, #T_710ac_row5_col0, #T_710ac_row5_col1, #T_710ac_row6_col0, #T_710ac_row6_col1, #T_710ac_row7_col0, #T_710ac_row7_col1, #T_710ac_row8_col0, #T_710ac_row8_col1, #T_710ac_row9_col0, #T_710ac_row9_col1 {\n",
       "  text-align: left;\n",
       "}\n",
       "</style>\n",
       "<table id=\"T_710ac\" style='display:inline'>\n",
       "  <caption>Top ru words for middle</caption>\n",
       "  <thead>\n",
       "    <tr>\n",
       "      <th class=\"blank level0\" >&nbsp;</th>\n",
       "      <th id=\"T_710ac_level0_col0\" class=\"col_heading level0 col0\" >words</th>\n",
       "      <th id=\"T_710ac_level0_col1\" class=\"col_heading level0 col1\" >count</th>\n",
       "    </tr>\n",
       "  </thead>\n",
       "  <tbody>\n",
       "    <tr>\n",
       "      <th id=\"T_710ac_level0_row0\" class=\"row_heading level0 row0\" >0</th>\n",
       "      <td id=\"T_710ac_row0_col0\" class=\"data row0 col0\" >опыт</td>\n",
       "      <td id=\"T_710ac_row0_col1\" class=\"data row0 col1\" >488</td>\n",
       "    </tr>\n",
       "    <tr>\n",
       "      <th id=\"T_710ac_level0_row1\" class=\"row_heading level0 row1\" >1</th>\n",
       "      <td id=\"T_710ac_row1_col0\" class=\"data row1 col0\" >работы</td>\n",
       "      <td id=\"T_710ac_row1_col1\" class=\"data row1 col1\" >436</td>\n",
       "    </tr>\n",
       "    <tr>\n",
       "      <th id=\"T_710ac_level0_row2\" class=\"row_heading level0 row2\" >2</th>\n",
       "      <td id=\"T_710ac_row2_col0\" class=\"data row2 col0\" >знание</td>\n",
       "      <td id=\"T_710ac_row2_col1\" class=\"data row2 col1\" >232</td>\n",
       "    </tr>\n",
       "    <tr>\n",
       "      <th id=\"T_710ac_level0_row3\" class=\"row_heading level0 row3\" >3</th>\n",
       "      <td id=\"T_710ac_row3_col0\" class=\"data row3 col0\" >приложений</td>\n",
       "      <td id=\"T_710ac_row3_col1\" class=\"data row3 col1\" >226</td>\n",
       "    </tr>\n",
       "    <tr>\n",
       "      <th id=\"T_710ac_level0_row4\" class=\"row_heading level0 row4\" >4</th>\n",
       "      <td id=\"T_710ac_row4_col0\" class=\"data row4 col0\" >разработки</td>\n",
       "      <td id=\"T_710ac_row4_col1\" class=\"data row4 col1\" >219</td>\n",
       "    </tr>\n",
       "    <tr>\n",
       "      <th id=\"T_710ac_level0_row5\" class=\"row_heading level0 row5\" >5</th>\n",
       "      <td id=\"T_710ac_row5_col0\" class=\"data row5 col0\" >понимание</td>\n",
       "      <td id=\"T_710ac_row5_col1\" class=\"data row5 col1\" >165</td>\n",
       "    </tr>\n",
       "    <tr>\n",
       "      <th id=\"T_710ac_level0_row6\" class=\"row_heading level0 row6\" >6</th>\n",
       "      <td id=\"T_710ac_row6_col0\" class=\"data row6 col0\" >приложения</td>\n",
       "      <td id=\"T_710ac_row6_col1\" class=\"data row6 col1\" >138</td>\n",
       "    </tr>\n",
       "    <tr>\n",
       "      <th id=\"T_710ac_level0_row7\" class=\"row_heading level0 row7\" >7</th>\n",
       "      <td id=\"T_710ac_row7_col0\" class=\"data row7 col0\" >компании</td>\n",
       "      <td id=\"T_710ac_row7_col1\" class=\"data row7 col1\" >134</td>\n",
       "    </tr>\n",
       "    <tr>\n",
       "      <th id=\"T_710ac_level0_row8\" class=\"row_heading level0 row8\" >8</th>\n",
       "      <td id=\"T_710ac_row8_col0\" class=\"data row8 col0\" >возможность</td>\n",
       "      <td id=\"T_710ac_row8_col1\" class=\"data row8 col1\" >112</td>\n",
       "    </tr>\n",
       "    <tr>\n",
       "      <th id=\"T_710ac_level0_row9\" class=\"row_heading level0 row9\" >9</th>\n",
       "      <td id=\"T_710ac_row9_col0\" class=\"data row9 col0\" >будет</td>\n",
       "      <td id=\"T_710ac_row9_col1\" class=\"data row9 col1\" >106</td>\n",
       "    </tr>\n",
       "  </tbody>\n",
       "</table>\n",
       "          "
      ],
      "text/plain": [
       "<IPython.core.display.HTML object>"
      ]
     },
     "metadata": {},
     "output_type": "display_data"
    },
    {
     "data": {
      "text/html": [
       "<style type=\"text/css\">\n",
       "#T_2f35c_row0_col0, #T_2f35c_row0_col1, #T_2f35c_row1_col0, #T_2f35c_row1_col1, #T_2f35c_row2_col0, #T_2f35c_row2_col1, #T_2f35c_row3_col0, #T_2f35c_row3_col1, #T_2f35c_row4_col0, #T_2f35c_row4_col1, #T_2f35c_row5_col0, #T_2f35c_row5_col1, #T_2f35c_row6_col0, #T_2f35c_row6_col1, #T_2f35c_row7_col0, #T_2f35c_row7_col1, #T_2f35c_row8_col0, #T_2f35c_row8_col1, #T_2f35c_row9_col0, #T_2f35c_row9_col1 {\n",
       "  text-align: left;\n",
       "}\n",
       "</style>\n",
       "<table id=\"T_2f35c\" style='display:inline'>\n",
       "  <caption>Top skills for senior</caption>\n",
       "  <thead>\n",
       "    <tr>\n",
       "      <th class=\"blank level0\" >&nbsp;</th>\n",
       "      <th id=\"T_2f35c_level0_col0\" class=\"col_heading level0 col0\" >skills</th>\n",
       "      <th id=\"T_2f35c_level0_col1\" class=\"col_heading level0 col1\" >count</th>\n",
       "    </tr>\n",
       "  </thead>\n",
       "  <tbody>\n",
       "    <tr>\n",
       "      <th id=\"T_2f35c_level0_row0\" class=\"row_heading level0 row0\" >0</th>\n",
       "      <td id=\"T_2f35c_row0_col0\" class=\"data row0 col0\" >kotlin</td>\n",
       "      <td id=\"T_2f35c_row0_col1\" class=\"data row0 col1\" >163</td>\n",
       "    </tr>\n",
       "    <tr>\n",
       "      <th id=\"T_2f35c_level0_row1\" class=\"row_heading level0 row1\" >1</th>\n",
       "      <td id=\"T_2f35c_row1_col0\" class=\"data row1 col0\" >android</td>\n",
       "      <td id=\"T_2f35c_row1_col1\" class=\"data row1 col1\" >150</td>\n",
       "    </tr>\n",
       "    <tr>\n",
       "      <th id=\"T_2f35c_level0_row2\" class=\"row_heading level0 row2\" >2</th>\n",
       "      <td id=\"T_2f35c_row2_col0\" class=\"data row2 col0\" >android sdk</td>\n",
       "      <td id=\"T_2f35c_row2_col1\" class=\"data row2 col1\" >99</td>\n",
       "    </tr>\n",
       "    <tr>\n",
       "      <th id=\"T_2f35c_level0_row3\" class=\"row_heading level0 row3\" >3</th>\n",
       "      <td id=\"T_2f35c_row3_col0\" class=\"data row3 col0\" >java</td>\n",
       "      <td id=\"T_2f35c_row3_col1\" class=\"data row3 col1\" >85</td>\n",
       "    </tr>\n",
       "    <tr>\n",
       "      <th id=\"T_2f35c_level0_row4\" class=\"row_heading level0 row4\" >4</th>\n",
       "      <td id=\"T_2f35c_row4_col0\" class=\"data row4 col0\" >git</td>\n",
       "      <td id=\"T_2f35c_row4_col1\" class=\"data row4 col1\" >48</td>\n",
       "    </tr>\n",
       "    <tr>\n",
       "      <th id=\"T_2f35c_level0_row5\" class=\"row_heading level0 row5\" >5</th>\n",
       "      <td id=\"T_2f35c_row5_col0\" class=\"data row5 col0\" >mvvm</td>\n",
       "      <td id=\"T_2f35c_row5_col1\" class=\"data row5 col1\" >33</td>\n",
       "    </tr>\n",
       "    <tr>\n",
       "      <th id=\"T_2f35c_level0_row6\" class=\"row_heading level0 row6\" >6</th>\n",
       "      <td id=\"T_2f35c_row6_col0\" class=\"data row6 col0\" >rxjava</td>\n",
       "      <td id=\"T_2f35c_row6_col1\" class=\"data row6 col1\" >19</td>\n",
       "    </tr>\n",
       "    <tr>\n",
       "      <th id=\"T_2f35c_level0_row7\" class=\"row_heading level0 row7\" >7</th>\n",
       "      <td id=\"T_2f35c_row7_col0\" class=\"data row7 col0\" >coroutines</td>\n",
       "      <td id=\"T_2f35c_row7_col1\" class=\"data row7 col1\" >18</td>\n",
       "    </tr>\n",
       "    <tr>\n",
       "      <th id=\"T_2f35c_level0_row8\" class=\"row_heading level0 row8\" >8</th>\n",
       "      <td id=\"T_2f35c_row8_col0\" class=\"data row8 col0\" >ооп</td>\n",
       "      <td id=\"T_2f35c_row8_col1\" class=\"data row8 col1\" >18</td>\n",
       "    </tr>\n",
       "    <tr>\n",
       "      <th id=\"T_2f35c_level0_row9\" class=\"row_heading level0 row9\" >9</th>\n",
       "      <td id=\"T_2f35c_row9_col0\" class=\"data row9 col0\" >dagger 2</td>\n",
       "      <td id=\"T_2f35c_row9_col1\" class=\"data row9 col1\" >17</td>\n",
       "    </tr>\n",
       "  </tbody>\n",
       "</table>\n",
       "          <style type=\"text/css\">\n",
       "#T_6eea1_row0_col0, #T_6eea1_row0_col1, #T_6eea1_row1_col0, #T_6eea1_row1_col1, #T_6eea1_row2_col0, #T_6eea1_row2_col1, #T_6eea1_row3_col0, #T_6eea1_row3_col1, #T_6eea1_row4_col0, #T_6eea1_row4_col1, #T_6eea1_row5_col0, #T_6eea1_row5_col1, #T_6eea1_row6_col0, #T_6eea1_row6_col1, #T_6eea1_row7_col0, #T_6eea1_row7_col1, #T_6eea1_row8_col0, #T_6eea1_row8_col1, #T_6eea1_row9_col0, #T_6eea1_row9_col1 {\n",
       "  text-align: left;\n",
       "}\n",
       "</style>\n",
       "<table id=\"T_6eea1\" style='display:inline'>\n",
       "  <caption>Top en words for senior</caption>\n",
       "  <thead>\n",
       "    <tr>\n",
       "      <th class=\"blank level0\" >&nbsp;</th>\n",
       "      <th id=\"T_6eea1_level0_col0\" class=\"col_heading level0 col0\" >words</th>\n",
       "      <th id=\"T_6eea1_level0_col1\" class=\"col_heading level0 col1\" >count</th>\n",
       "    </tr>\n",
       "  </thead>\n",
       "  <tbody>\n",
       "    <tr>\n",
       "      <th id=\"T_6eea1_level0_row0\" class=\"row_heading level0 row0\" >0</th>\n",
       "      <td id=\"T_6eea1_row0_col0\" class=\"data row0 col0\" >android</td>\n",
       "      <td id=\"T_6eea1_row0_col1\" class=\"data row0 col1\" >811</td>\n",
       "    </tr>\n",
       "    <tr>\n",
       "      <th id=\"T_6eea1_level0_row1\" class=\"row_heading level0 row1\" >1</th>\n",
       "      <td id=\"T_6eea1_row1_col0\" class=\"data row1 col0\" >kotlin</td>\n",
       "      <td id=\"T_6eea1_row1_col1\" class=\"data row1 col1\" >451</td>\n",
       "    </tr>\n",
       "    <tr>\n",
       "      <th id=\"T_6eea1_level0_row2\" class=\"row_heading level0 row2\" >2</th>\n",
       "      <td id=\"T_6eea1_row2_col0\" class=\"data row2 col0\" >mvvm</td>\n",
       "      <td id=\"T_6eea1_row2_col1\" class=\"data row2 col1\" >174</td>\n",
       "    </tr>\n",
       "    <tr>\n",
       "      <th id=\"T_6eea1_level0_row3\" class=\"row_heading level0 row3\" >3</th>\n",
       "      <td id=\"T_6eea1_row3_col0\" class=\"data row3 col0\" >git</td>\n",
       "      <td id=\"T_6eea1_row3_col1\" class=\"data row3 col1\" >170</td>\n",
       "    </tr>\n",
       "    <tr>\n",
       "      <th id=\"T_6eea1_level0_row4\" class=\"row_heading level0 row4\" >4</th>\n",
       "      <td id=\"T_6eea1_row4_col0\" class=\"data row4 col0\" >java</td>\n",
       "      <td id=\"T_6eea1_row4_col1\" class=\"data row4 col1\" >164</td>\n",
       "    </tr>\n",
       "    <tr>\n",
       "      <th id=\"T_6eea1_level0_row5\" class=\"row_heading level0 row5\" >5</th>\n",
       "      <td id=\"T_6eea1_row5_col0\" class=\"data row5 col0\" >sdk</td>\n",
       "      <td id=\"T_6eea1_row5_col1\" class=\"data row5 col1\" >161</td>\n",
       "    </tr>\n",
       "    <tr>\n",
       "      <th id=\"T_6eea1_level0_row6\" class=\"row_heading level0 row6\" >6</th>\n",
       "      <td id=\"T_6eea1_row6_col0\" class=\"data row6 col0\" >mvi</td>\n",
       "      <td id=\"T_6eea1_row6_col1\" class=\"data row6 col1\" >122</td>\n",
       "    </tr>\n",
       "    <tr>\n",
       "      <th id=\"T_6eea1_level0_row7\" class=\"row_heading level0 row7\" >7</th>\n",
       "      <td id=\"T_6eea1_row7_col0\" class=\"data row7 col0\" >coroutines</td>\n",
       "      <td id=\"T_6eea1_row7_col1\" class=\"data row7 col1\" >121</td>\n",
       "    </tr>\n",
       "    <tr>\n",
       "      <th id=\"T_6eea1_level0_row8\" class=\"row_heading level0 row8\" >8</th>\n",
       "      <td id=\"T_6eea1_row8_col0\" class=\"data row8 col0\" >dagger</td>\n",
       "      <td id=\"T_6eea1_row8_col1\" class=\"data row8 col1\" >119</td>\n",
       "    </tr>\n",
       "    <tr>\n",
       "      <th id=\"T_6eea1_level0_row9\" class=\"row_heading level0 row9\" >9</th>\n",
       "      <td id=\"T_6eea1_row9_col0\" class=\"data row9 col0\" >compose</td>\n",
       "      <td id=\"T_6eea1_row9_col1\" class=\"data row9 col1\" >115</td>\n",
       "    </tr>\n",
       "  </tbody>\n",
       "</table>\n",
       "          <style type=\"text/css\">\n",
       "#T_54099_row0_col0, #T_54099_row0_col1, #T_54099_row1_col0, #T_54099_row1_col1, #T_54099_row2_col0, #T_54099_row2_col1, #T_54099_row3_col0, #T_54099_row3_col1, #T_54099_row4_col0, #T_54099_row4_col1, #T_54099_row5_col0, #T_54099_row5_col1, #T_54099_row6_col0, #T_54099_row6_col1, #T_54099_row7_col0, #T_54099_row7_col1, #T_54099_row8_col0, #T_54099_row8_col1, #T_54099_row9_col0, #T_54099_row9_col1 {\n",
       "  text-align: left;\n",
       "}\n",
       "</style>\n",
       "<table id=\"T_54099\" style='display:inline'>\n",
       "  <caption>Top ru words for senior</caption>\n",
       "  <thead>\n",
       "    <tr>\n",
       "      <th class=\"blank level0\" >&nbsp;</th>\n",
       "      <th id=\"T_54099_level0_col0\" class=\"col_heading level0 col0\" >words</th>\n",
       "      <th id=\"T_54099_level0_col1\" class=\"col_heading level0 col1\" >count</th>\n",
       "    </tr>\n",
       "  </thead>\n",
       "  <tbody>\n",
       "    <tr>\n",
       "      <th id=\"T_54099_level0_row0\" class=\"row_heading level0 row0\" >0</th>\n",
       "      <td id=\"T_54099_row0_col0\" class=\"data row0 col0\" >опыт</td>\n",
       "      <td id=\"T_54099_row0_col1\" class=\"data row0 col1\" >1101</td>\n",
       "    </tr>\n",
       "    <tr>\n",
       "      <th id=\"T_54099_level0_row1\" class=\"row_heading level0 row1\" >1</th>\n",
       "      <td id=\"T_54099_row1_col0\" class=\"data row1 col0\" >работы</td>\n",
       "      <td id=\"T_54099_row1_col1\" class=\"data row1 col1\" >818</td>\n",
       "    </tr>\n",
       "    <tr>\n",
       "      <th id=\"T_54099_level0_row2\" class=\"row_heading level0 row2\" >2</th>\n",
       "      <td id=\"T_54099_row2_col0\" class=\"data row2 col0\" >разработки</td>\n",
       "      <td id=\"T_54099_row2_col1\" class=\"data row2 col1\" >539</td>\n",
       "    </tr>\n",
       "    <tr>\n",
       "      <th id=\"T_54099_level0_row3\" class=\"row_heading level0 row3\" >3</th>\n",
       "      <td id=\"T_54099_row3_col0\" class=\"data row3 col0\" >приложений</td>\n",
       "      <td id=\"T_54099_row3_col1\" class=\"data row3 col1\" >424</td>\n",
       "    </tr>\n",
       "    <tr>\n",
       "      <th id=\"T_54099_level0_row4\" class=\"row_heading level0 row4\" >4</th>\n",
       "      <td id=\"T_54099_row4_col0\" class=\"data row4 col0\" >знание</td>\n",
       "      <td id=\"T_54099_row4_col1\" class=\"data row4 col1\" >383</td>\n",
       "    </tr>\n",
       "    <tr>\n",
       "      <th id=\"T_54099_level0_row5\" class=\"row_heading level0 row5\" >5</th>\n",
       "      <td id=\"T_54099_row5_col0\" class=\"data row5 col0\" >приложения</td>\n",
       "      <td id=\"T_54099_row5_col1\" class=\"data row5 col1\" >357</td>\n",
       "    </tr>\n",
       "    <tr>\n",
       "      <th id=\"T_54099_level0_row6\" class=\"row_heading level0 row6\" >6</th>\n",
       "      <td id=\"T_54099_row6_col0\" class=\"data row6 col0\" >понимание</td>\n",
       "      <td id=\"T_54099_row6_col1\" class=\"data row6 col1\" >306</td>\n",
       "    </tr>\n",
       "    <tr>\n",
       "      <th id=\"T_54099_level0_row7\" class=\"row_heading level0 row7\" >7</th>\n",
       "      <td id=\"T_54099_row7_col0\" class=\"data row7 col0\" >будет</td>\n",
       "      <td id=\"T_54099_row7_col1\" class=\"data row7 col1\" >283</td>\n",
       "    </tr>\n",
       "    <tr>\n",
       "      <th id=\"T_54099_level0_row8\" class=\"row_heading level0 row8\" >8</th>\n",
       "      <td id=\"T_54099_row8_col0\" class=\"data row8 col0\" >работать</td>\n",
       "      <td id=\"T_54099_row8_col1\" class=\"data row8 col1\" >264</td>\n",
       "    </tr>\n",
       "    <tr>\n",
       "      <th id=\"T_54099_level0_row9\" class=\"row_heading level0 row9\" >9</th>\n",
       "      <td id=\"T_54099_row9_col0\" class=\"data row9 col0\" >возможность</td>\n",
       "      <td id=\"T_54099_row9_col1\" class=\"data row9 col1\" >254</td>\n",
       "    </tr>\n",
       "  </tbody>\n",
       "</table>\n",
       "          "
      ],
      "text/plain": [
       "<IPython.core.display.HTML object>"
      ]
     },
     "metadata": {},
     "output_type": "display_data"
    },
    {
     "data": {
      "text/html": [
       "<style type=\"text/css\">\n",
       "#T_f3a25_row0_col0, #T_f3a25_row0_col1, #T_f3a25_row1_col0, #T_f3a25_row1_col1, #T_f3a25_row2_col0, #T_f3a25_row2_col1, #T_f3a25_row3_col0, #T_f3a25_row3_col1, #T_f3a25_row4_col0, #T_f3a25_row4_col1, #T_f3a25_row5_col0, #T_f3a25_row5_col1, #T_f3a25_row6_col0, #T_f3a25_row6_col1, #T_f3a25_row7_col0, #T_f3a25_row7_col1, #T_f3a25_row8_col0, #T_f3a25_row8_col1, #T_f3a25_row9_col0, #T_f3a25_row9_col1 {\n",
       "  text-align: left;\n",
       "}\n",
       "</style>\n",
       "<table id=\"T_f3a25\" style='display:inline'>\n",
       "  <caption>Top skills for lead</caption>\n",
       "  <thead>\n",
       "    <tr>\n",
       "      <th class=\"blank level0\" >&nbsp;</th>\n",
       "      <th id=\"T_f3a25_level0_col0\" class=\"col_heading level0 col0\" >skills</th>\n",
       "      <th id=\"T_f3a25_level0_col1\" class=\"col_heading level0 col1\" >count</th>\n",
       "    </tr>\n",
       "  </thead>\n",
       "  <tbody>\n",
       "    <tr>\n",
       "      <th id=\"T_f3a25_level0_row0\" class=\"row_heading level0 row0\" >0</th>\n",
       "      <td id=\"T_f3a25_row0_col0\" class=\"data row0 col0\" >kotlin</td>\n",
       "      <td id=\"T_f3a25_row0_col1\" class=\"data row0 col1\" >13</td>\n",
       "    </tr>\n",
       "    <tr>\n",
       "      <th id=\"T_f3a25_level0_row1\" class=\"row_heading level0 row1\" >1</th>\n",
       "      <td id=\"T_f3a25_row1_col0\" class=\"data row1 col0\" >android sdk</td>\n",
       "      <td id=\"T_f3a25_row1_col1\" class=\"data row1 col1\" >11</td>\n",
       "    </tr>\n",
       "    <tr>\n",
       "      <th id=\"T_f3a25_level0_row2\" class=\"row_heading level0 row2\" >2</th>\n",
       "      <td id=\"T_f3a25_row2_col0\" class=\"data row2 col0\" >android</td>\n",
       "      <td id=\"T_f3a25_row2_col1\" class=\"data row2 col1\" >10</td>\n",
       "    </tr>\n",
       "    <tr>\n",
       "      <th id=\"T_f3a25_level0_row3\" class=\"row_heading level0 row3\" >3</th>\n",
       "      <td id=\"T_f3a25_row3_col0\" class=\"data row3 col0\" >java</td>\n",
       "      <td id=\"T_f3a25_row3_col1\" class=\"data row3 col1\" >9</td>\n",
       "    </tr>\n",
       "    <tr>\n",
       "      <th id=\"T_f3a25_level0_row4\" class=\"row_heading level0 row4\" >4</th>\n",
       "      <td id=\"T_f3a25_row4_col0\" class=\"data row4 col0\" >aosp</td>\n",
       "      <td id=\"T_f3a25_row4_col1\" class=\"data row4 col1\" >4</td>\n",
       "    </tr>\n",
       "    <tr>\n",
       "      <th id=\"T_f3a25_level0_row5\" class=\"row_heading level0 row5\" >5</th>\n",
       "      <td id=\"T_f3a25_row5_col0\" class=\"data row5 col0\" >c++</td>\n",
       "      <td id=\"T_f3a25_row5_col1\" class=\"data row5 col1\" >3</td>\n",
       "    </tr>\n",
       "    <tr>\n",
       "      <th id=\"T_f3a25_level0_row6\" class=\"row_heading level0 row6\" >6</th>\n",
       "      <td id=\"T_f3a25_row6_col0\" class=\"data row6 col0\" >git</td>\n",
       "      <td id=\"T_f3a25_row6_col1\" class=\"data row6 col1\" >3</td>\n",
       "    </tr>\n",
       "    <tr>\n",
       "      <th id=\"T_f3a25_level0_row7\" class=\"row_heading level0 row7\" >7</th>\n",
       "      <td id=\"T_f3a25_row7_col0\" class=\"data row7 col0\" >архитектура</td>\n",
       "      <td id=\"T_f3a25_row7_col1\" class=\"data row7 col1\" >3</td>\n",
       "    </tr>\n",
       "    <tr>\n",
       "      <th id=\"T_f3a25_level0_row8\" class=\"row_heading level0 row8\" >8</th>\n",
       "      <td id=\"T_f3a25_row8_col0\" class=\"data row8 col0\" >sqlite</td>\n",
       "      <td id=\"T_f3a25_row8_col1\" class=\"data row8 col1\" >3</td>\n",
       "    </tr>\n",
       "    <tr>\n",
       "      <th id=\"T_f3a25_level0_row9\" class=\"row_heading level0 row9\" >9</th>\n",
       "      <td id=\"T_f3a25_row9_col0\" class=\"data row9 col0\" >ооп</td>\n",
       "      <td id=\"T_f3a25_row9_col1\" class=\"data row9 col1\" >3</td>\n",
       "    </tr>\n",
       "  </tbody>\n",
       "</table>\n",
       "          <style type=\"text/css\">\n",
       "#T_ea538_row0_col0, #T_ea538_row0_col1, #T_ea538_row1_col0, #T_ea538_row1_col1, #T_ea538_row2_col0, #T_ea538_row2_col1, #T_ea538_row3_col0, #T_ea538_row3_col1, #T_ea538_row4_col0, #T_ea538_row4_col1, #T_ea538_row5_col0, #T_ea538_row5_col1, #T_ea538_row6_col0, #T_ea538_row6_col1, #T_ea538_row7_col0, #T_ea538_row7_col1, #T_ea538_row8_col0, #T_ea538_row8_col1, #T_ea538_row9_col0, #T_ea538_row9_col1 {\n",
       "  text-align: left;\n",
       "}\n",
       "</style>\n",
       "<table id=\"T_ea538\" style='display:inline'>\n",
       "  <caption>Top en words for lead</caption>\n",
       "  <thead>\n",
       "    <tr>\n",
       "      <th class=\"blank level0\" >&nbsp;</th>\n",
       "      <th id=\"T_ea538_level0_col0\" class=\"col_heading level0 col0\" >words</th>\n",
       "      <th id=\"T_ea538_level0_col1\" class=\"col_heading level0 col1\" >count</th>\n",
       "    </tr>\n",
       "  </thead>\n",
       "  <tbody>\n",
       "    <tr>\n",
       "      <th id=\"T_ea538_level0_row0\" class=\"row_heading level0 row0\" >0</th>\n",
       "      <td id=\"T_ea538_row0_col0\" class=\"data row0 col0\" >android</td>\n",
       "      <td id=\"T_ea538_row0_col1\" class=\"data row0 col1\" >88</td>\n",
       "    </tr>\n",
       "    <tr>\n",
       "      <th id=\"T_ea538_level0_row1\" class=\"row_heading level0 row1\" >1</th>\n",
       "      <td id=\"T_ea538_row1_col0\" class=\"data row1 col0\" >kotlin</td>\n",
       "      <td id=\"T_ea538_row1_col1\" class=\"data row1 col1\" >27</td>\n",
       "    </tr>\n",
       "    <tr>\n",
       "      <th id=\"T_ea538_level0_row2\" class=\"row_heading level0 row2\" >2</th>\n",
       "      <td id=\"T_ea538_row2_col0\" class=\"data row2 col0\" >java</td>\n",
       "      <td id=\"T_ea538_row2_col1\" class=\"data row2 col1\" >17</td>\n",
       "    </tr>\n",
       "    <tr>\n",
       "      <th id=\"T_ea538_level0_row3\" class=\"row_heading level0 row3\" >3</th>\n",
       "      <td id=\"T_ea538_row3_col0\" class=\"data row3 col0\" >and</td>\n",
       "      <td id=\"T_ea538_row3_col1\" class=\"data row3 col1\" >16</td>\n",
       "    </tr>\n",
       "    <tr>\n",
       "      <th id=\"T_ea538_level0_row4\" class=\"row_heading level0 row4\" >4</th>\n",
       "      <td id=\"T_ea538_row4_col0\" class=\"data row4 col0\" >aosp</td>\n",
       "      <td id=\"T_ea538_row4_col1\" class=\"data row4 col1\" >14</td>\n",
       "    </tr>\n",
       "    <tr>\n",
       "      <th id=\"T_ea538_level0_row5\" class=\"row_heading level0 row5\" >5</th>\n",
       "      <td id=\"T_ea538_row5_col0\" class=\"data row5 col0\" >sdk</td>\n",
       "      <td id=\"T_ea538_row5_col1\" class=\"data row5 col1\" >13</td>\n",
       "    </tr>\n",
       "    <tr>\n",
       "      <th id=\"T_ea538_level0_row6\" class=\"row_heading level0 row6\" >6</th>\n",
       "      <td id=\"T_ea538_row6_col0\" class=\"data row6 col0\" >architecture</td>\n",
       "      <td id=\"T_ea538_row6_col1\" class=\"data row6 col1\" >12</td>\n",
       "    </tr>\n",
       "    <tr>\n",
       "      <th id=\"T_ea538_level0_row7\" class=\"row_heading level0 row7\" >7</th>\n",
       "      <td id=\"T_ea538_row7_col0\" class=\"data row7 col0\" >compose</td>\n",
       "      <td id=\"T_ea538_row7_col1\" class=\"data row7 col1\" >11</td>\n",
       "    </tr>\n",
       "    <tr>\n",
       "      <th id=\"T_ea538_level0_row8\" class=\"row_heading level0 row8\" >8</th>\n",
       "      <td id=\"T_ea538_row8_col0\" class=\"data row8 col0\" >premium</td>\n",
       "      <td id=\"T_ea538_row8_col1\" class=\"data row8 col1\" >10</td>\n",
       "    </tr>\n",
       "    <tr>\n",
       "      <th id=\"T_ea538_level0_row9\" class=\"row_heading level0 row9\" >9</th>\n",
       "      <td id=\"T_ea538_row9_col0\" class=\"data row9 col0\" >kion</td>\n",
       "      <td id=\"T_ea538_row9_col1\" class=\"data row9 col1\" >10</td>\n",
       "    </tr>\n",
       "  </tbody>\n",
       "</table>\n",
       "          <style type=\"text/css\">\n",
       "#T_8616d_row0_col0, #T_8616d_row0_col1, #T_8616d_row1_col0, #T_8616d_row1_col1, #T_8616d_row2_col0, #T_8616d_row2_col1, #T_8616d_row3_col0, #T_8616d_row3_col1, #T_8616d_row4_col0, #T_8616d_row4_col1, #T_8616d_row5_col0, #T_8616d_row5_col1, #T_8616d_row6_col0, #T_8616d_row6_col1, #T_8616d_row7_col0, #T_8616d_row7_col1, #T_8616d_row8_col0, #T_8616d_row8_col1, #T_8616d_row9_col0, #T_8616d_row9_col1 {\n",
       "  text-align: left;\n",
       "}\n",
       "</style>\n",
       "<table id=\"T_8616d\" style='display:inline'>\n",
       "  <caption>Top ru words for lead</caption>\n",
       "  <thead>\n",
       "    <tr>\n",
       "      <th class=\"blank level0\" >&nbsp;</th>\n",
       "      <th id=\"T_8616d_level0_col0\" class=\"col_heading level0 col0\" >words</th>\n",
       "      <th id=\"T_8616d_level0_col1\" class=\"col_heading level0 col1\" >count</th>\n",
       "    </tr>\n",
       "  </thead>\n",
       "  <tbody>\n",
       "    <tr>\n",
       "      <th id=\"T_8616d_level0_row0\" class=\"row_heading level0 row0\" >0</th>\n",
       "      <td id=\"T_8616d_row0_col0\" class=\"data row0 col0\" >опыт</td>\n",
       "      <td id=\"T_8616d_row0_col1\" class=\"data row0 col1\" >97</td>\n",
       "    </tr>\n",
       "    <tr>\n",
       "      <th id=\"T_8616d_level0_row1\" class=\"row_heading level0 row1\" >1</th>\n",
       "      <td id=\"T_8616d_row1_col0\" class=\"data row1 col0\" >работы</td>\n",
       "      <td id=\"T_8616d_row1_col1\" class=\"data row1 col1\" >68</td>\n",
       "    </tr>\n",
       "    <tr>\n",
       "      <th id=\"T_8616d_level0_row2\" class=\"row_heading level0 row2\" >2</th>\n",
       "      <td id=\"T_8616d_row2_col0\" class=\"data row2 col0\" >разработки</td>\n",
       "      <td id=\"T_8616d_row2_col1\" class=\"data row2 col1\" >43</td>\n",
       "    </tr>\n",
       "    <tr>\n",
       "      <th id=\"T_8616d_level0_row3\" class=\"row_heading level0 row3\" >3</th>\n",
       "      <td id=\"T_8616d_row3_col0\" class=\"data row3 col0\" >приложения</td>\n",
       "      <td id=\"T_8616d_row3_col1\" class=\"data row3 col1\" >35</td>\n",
       "    </tr>\n",
       "    <tr>\n",
       "      <th id=\"T_8616d_level0_row4\" class=\"row_heading level0 row4\" >4</th>\n",
       "      <td id=\"T_8616d_row4_col0\" class=\"data row4 col0\" >понимание</td>\n",
       "      <td id=\"T_8616d_row4_col1\" class=\"data row4 col1\" >30</td>\n",
       "    </tr>\n",
       "    <tr>\n",
       "      <th id=\"T_8616d_level0_row5\" class=\"row_heading level0 row5\" >5</th>\n",
       "      <td id=\"T_8616d_row5_col0\" class=\"data row5 col0\" >знание</td>\n",
       "      <td id=\"T_8616d_row5_col1\" class=\"data row5 col1\" >28</td>\n",
       "    </tr>\n",
       "    <tr>\n",
       "      <th id=\"T_8616d_level0_row6\" class=\"row_heading level0 row6\" >6</th>\n",
       "      <td id=\"T_8616d_row6_col0\" class=\"data row6 col0\" >приложений</td>\n",
       "      <td id=\"T_8616d_row6_col1\" class=\"data row6 col1\" >27</td>\n",
       "    </tr>\n",
       "    <tr>\n",
       "      <th id=\"T_8616d_level0_row7\" class=\"row_heading level0 row7\" >7</th>\n",
       "      <td id=\"T_8616d_row7_col0\" class=\"data row7 col0\" >чтобы</td>\n",
       "      <td id=\"T_8616d_row7_col1\" class=\"data row7 col1\" >19</td>\n",
       "    </tr>\n",
       "    <tr>\n",
       "      <th id=\"T_8616d_level0_row8\" class=\"row_heading level0 row8\" >8</th>\n",
       "      <td id=\"T_8616d_row8_col0\" class=\"data row8 col0\" >решения</td>\n",
       "      <td id=\"T_8616d_row8_col1\" class=\"data row8 col1\" >19</td>\n",
       "    </tr>\n",
       "    <tr>\n",
       "      <th id=\"T_8616d_level0_row9\" class=\"row_heading level0 row9\" >9</th>\n",
       "      <td id=\"T_8616d_row9_col0\" class=\"data row9 col0\" >новые</td>\n",
       "      <td id=\"T_8616d_row9_col1\" class=\"data row9 col1\" >19</td>\n",
       "    </tr>\n",
       "  </tbody>\n",
       "</table>\n",
       "          "
      ],
      "text/plain": [
       "<IPython.core.display.HTML object>"
      ]
     },
     "metadata": {},
     "output_type": "display_data"
    }
   ],
   "source": [
    "display_side_by_side([pd.DataFrame({'skills':jun_skills.index, 'count':jun_skills.values}),\n",
    "                      pd.DataFrame({'words':jun_en_words.index, 'count':jun_en_words.values}),\n",
    "                      pd.DataFrame({'words':jun_ru_words.index, 'count':jun_ru_words.values})],\n",
    "                     ['Top skills for junior', 'Top en words for junior', 'Top ru words for junior'], 10) \n",
    "display_side_by_side([pd.DataFrame({'skills':mid_skills.index, 'count':mid_skills.values}),\n",
    "                      pd.DataFrame({'words':mid_en_words.index, 'count':mid_en_words.values}),\n",
    "                      pd.DataFrame({'words':mid_ru_words.index, 'count':mid_ru_words.values})],\n",
    "                     ['Top skills for middle', 'Top en words for middle', 'Top ru words for middle'], 10) \n",
    "display_side_by_side([pd.DataFrame({'skills':sen_skills.index, 'count':sen_skills.values}),\n",
    "                      pd.DataFrame({'words':sen_en_words.index, 'count':sen_en_words.values}),\n",
    "                      pd.DataFrame({'words':sen_ru_words.index, 'count':sen_ru_words.values})],\n",
    "                     ['Top skills for senior', 'Top en words for senior', 'Top ru words for senior'], 10) \n",
    "display_side_by_side([pd.DataFrame({'skills':lead_skills.index, 'count':lead_skills.values}),\n",
    "                      pd.DataFrame({'words':lead_en_words.index, 'count':lead_en_words.values}),\n",
    "                      pd.DataFrame({'words':lead_ru_words.index, 'count':lead_ru_words.values})],\n",
    "                     ['Top skills for lead', 'Top en words for lead', 'Top ru words for lead'], 10) "
   ]
  },
  {
   "cell_type": "markdown",
   "id": "1f8a6424",
   "metadata": {
    "papermill": {
     "duration": 0.020302,
     "end_time": "2022-11-22T10:53:01.151137",
     "exception": false,
     "start_time": "2022-11-22T10:53:01.130835",
     "status": "completed"
    },
    "tags": []
   },
   "source": [
    "<a id=\"data_skills_conclusion\"></a>\n",
    "### Вывод"
   ]
  },
  {
   "cell_type": "markdown",
   "id": "4dc453c9",
   "metadata": {
    "papermill": {
     "duration": 0.019996,
     "end_time": "2022-11-22T10:53:01.192330",
     "exception": false,
     "start_time": "2022-11-22T10:53:01.172334",
     "status": "completed"
    },
    "tags": []
   },
   "source": [
    "<a id=\"final_conclusion\"></a>\n",
    "## Общие выводы"
   ]
  }
 ],
 "metadata": {
  "kernelspec": {
   "display_name": "Python 3",
   "language": "python",
   "name": "python3"
  },
  "language_info": {
   "codemirror_mode": {
    "name": "ipython",
    "version": 3
   },
   "file_extension": ".py",
   "mimetype": "text/x-python",
   "name": "python",
   "nbconvert_exporter": "python",
   "pygments_lexer": "ipython3",
   "version": "3.11.5"
  },
  "papermill": {
   "default_parameters": {},
   "duration": 282.21279,
   "end_time": "2022-11-22T10:53:02.034532",
   "environment_variables": {},
   "exception": null,
   "input_path": "__notebook__.ipynb",
   "output_path": "__notebook__.ipynb",
   "parameters": {},
   "start_time": "2022-11-22T10:48:19.821742",
   "version": "2.3.4"
  }
 },
 "nbformat": 4,
 "nbformat_minor": 5
}
